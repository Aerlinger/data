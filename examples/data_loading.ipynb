{
 "cells": [
  {
   "cell_type": "markdown",
   "metadata": {},
   "source": [
    "# Loading the Open COVID-19 Dataset\n",
    "This very short notebook showcases how to load the [Open COVID-19 datset](https://github.com/open-covid-19/data), including some examples for commonly performed operations.\n",
    "\n",
    "First, loading the data is very simple with `pandas`. We can use the CSV or the JSON file to download the entire Open COVID-19 dataset in a single step:"
   ]
  },
  {
   "cell_type": "code",
   "execution_count": 1,
   "metadata": {},
   "outputs": [
    {
     "output_type": "stream",
     "name": "stdout",
     "text": "The dataset currently contains 268684 records, here are the last few:\n"
    },
    {
     "output_type": "execute_result",
     "data": {
      "text/plain": "       key wikidata  datacommons country_code country_name subregion1_code  \\\n268679  ZW     Q954  country/ZWE           ZW     Zimbabwe             NaN   \n268680  ZW     Q954  country/ZWE           ZW     Zimbabwe             NaN   \n268681  ZW     Q954  country/ZWE           ZW     Zimbabwe             NaN   \n268682  ZW     Q954  country/ZWE           ZW     Zimbabwe             NaN   \n268683  ZW     Q954  country/ZWE           ZW     Zimbabwe             NaN   \n\n       subregion1_name subregion2_code subregion2_name 3166-1-alpha-2  ...  \\\n268679             NaN             NaN             NaN             ZW  ...   \n268680             NaN             NaN             NaN             ZW  ...   \n268681             NaN             NaN             NaN             ZW  ...   \n268682             NaN             NaN             NaN             ZW  ...   \n268683             NaN             NaN             NaN             ZW  ...   \n\n       income_support  debt_relief fiscal_measures  international_support  \\\n268679            1.0          0.0             0.0                    0.0   \n268680            1.0          0.0             0.0                    0.0   \n268681            1.0          0.0             0.0                    0.0   \n268682            1.0          NaN             NaN                    NaN   \n268683            NaN          NaN             NaN                    NaN   \n\n        public_information_campaigns  testing_policy  contact_tracing  \\\n268679                           2.0             1.0              1.0   \n268680                           2.0             1.0              1.0   \n268681                           2.0             1.0              1.0   \n268682                           2.0             1.0              1.0   \n268683                           NaN             NaN              NaN   \n\n        emergency_investment_in_healthcare  investment_in_vaccines  \\\n268679                                 0.0                     0.0   \n268680                                 0.0                     0.0   \n268681                                 0.0                     0.0   \n268682                                 0.0                     0.0   \n268683                                 NaN                     NaN   \n\n        stringency_index  \n268679              91.4  \n268680              91.4  \n268681              91.4  \n268682               NaN  \n268683               NaN  \n\n[5 rows x 54 columns]",
      "text/html": "<div>\n<style scoped>\n    .dataframe tbody tr th:only-of-type {\n        vertical-align: middle;\n    }\n\n    .dataframe tbody tr th {\n        vertical-align: top;\n    }\n\n    .dataframe thead th {\n        text-align: right;\n    }\n</style>\n<table border=\"1\" class=\"dataframe\">\n  <thead>\n    <tr style=\"text-align: right;\">\n      <th></th>\n      <th>key</th>\n      <th>wikidata</th>\n      <th>datacommons</th>\n      <th>country_code</th>\n      <th>country_name</th>\n      <th>subregion1_code</th>\n      <th>subregion1_name</th>\n      <th>subregion2_code</th>\n      <th>subregion2_name</th>\n      <th>3166-1-alpha-2</th>\n      <th>...</th>\n      <th>income_support</th>\n      <th>debt_relief</th>\n      <th>fiscal_measures</th>\n      <th>international_support</th>\n      <th>public_information_campaigns</th>\n      <th>testing_policy</th>\n      <th>contact_tracing</th>\n      <th>emergency_investment_in_healthcare</th>\n      <th>investment_in_vaccines</th>\n      <th>stringency_index</th>\n    </tr>\n  </thead>\n  <tbody>\n    <tr>\n      <th>268679</th>\n      <td>ZW</td>\n      <td>Q954</td>\n      <td>country/ZWE</td>\n      <td>ZW</td>\n      <td>Zimbabwe</td>\n      <td>NaN</td>\n      <td>NaN</td>\n      <td>NaN</td>\n      <td>NaN</td>\n      <td>ZW</td>\n      <td>...</td>\n      <td>1.0</td>\n      <td>0.0</td>\n      <td>0.0</td>\n      <td>0.0</td>\n      <td>2.0</td>\n      <td>1.0</td>\n      <td>1.0</td>\n      <td>0.0</td>\n      <td>0.0</td>\n      <td>91.4</td>\n    </tr>\n    <tr>\n      <th>268680</th>\n      <td>ZW</td>\n      <td>Q954</td>\n      <td>country/ZWE</td>\n      <td>ZW</td>\n      <td>Zimbabwe</td>\n      <td>NaN</td>\n      <td>NaN</td>\n      <td>NaN</td>\n      <td>NaN</td>\n      <td>ZW</td>\n      <td>...</td>\n      <td>1.0</td>\n      <td>0.0</td>\n      <td>0.0</td>\n      <td>0.0</td>\n      <td>2.0</td>\n      <td>1.0</td>\n      <td>1.0</td>\n      <td>0.0</td>\n      <td>0.0</td>\n      <td>91.4</td>\n    </tr>\n    <tr>\n      <th>268681</th>\n      <td>ZW</td>\n      <td>Q954</td>\n      <td>country/ZWE</td>\n      <td>ZW</td>\n      <td>Zimbabwe</td>\n      <td>NaN</td>\n      <td>NaN</td>\n      <td>NaN</td>\n      <td>NaN</td>\n      <td>ZW</td>\n      <td>...</td>\n      <td>1.0</td>\n      <td>0.0</td>\n      <td>0.0</td>\n      <td>0.0</td>\n      <td>2.0</td>\n      <td>1.0</td>\n      <td>1.0</td>\n      <td>0.0</td>\n      <td>0.0</td>\n      <td>91.4</td>\n    </tr>\n    <tr>\n      <th>268682</th>\n      <td>ZW</td>\n      <td>Q954</td>\n      <td>country/ZWE</td>\n      <td>ZW</td>\n      <td>Zimbabwe</td>\n      <td>NaN</td>\n      <td>NaN</td>\n      <td>NaN</td>\n      <td>NaN</td>\n      <td>ZW</td>\n      <td>...</td>\n      <td>1.0</td>\n      <td>NaN</td>\n      <td>NaN</td>\n      <td>NaN</td>\n      <td>2.0</td>\n      <td>1.0</td>\n      <td>1.0</td>\n      <td>0.0</td>\n      <td>0.0</td>\n      <td>NaN</td>\n    </tr>\n    <tr>\n      <th>268683</th>\n      <td>ZW</td>\n      <td>Q954</td>\n      <td>country/ZWE</td>\n      <td>ZW</td>\n      <td>Zimbabwe</td>\n      <td>NaN</td>\n      <td>NaN</td>\n      <td>NaN</td>\n      <td>NaN</td>\n      <td>ZW</td>\n      <td>...</td>\n      <td>NaN</td>\n      <td>NaN</td>\n      <td>NaN</td>\n      <td>NaN</td>\n      <td>NaN</td>\n      <td>NaN</td>\n      <td>NaN</td>\n      <td>NaN</td>\n      <td>NaN</td>\n      <td>NaN</td>\n    </tr>\n  </tbody>\n</table>\n<p>5 rows × 54 columns</p>\n</div>"
     },
     "metadata": {},
     "execution_count": 1
    }
   ],
   "source": [
    "import pandas as pd\n",
    "\n",
    "# Load CSV data directly from the URL with pandas\n",
    "data = pd.read_csv('https://open-covid-19.github.io/data/v2/master.csv')\n",
    "\n",
    "# Alternatively load the JSON data, which should be identical\n",
    "data_json = pd.read_json('https://open-covid-19.github.io/data/v2/master.json')\n",
    "assert len(data) == len(data_json)\n",
    "\n",
    "# Print a small snippet of the dataset\n",
    "print('The dataset currently contains %d records, here are the last few:' % len(data))\n",
    "data.tail()"
   ]
  },
  {
   "cell_type": "markdown",
   "metadata": {},
   "source": [
    "### Looking at country-level data\n",
    "Some records contain country-level data, in other words, data that is aggregated at the country level. Other records contain region-level data, which are subdivisions of a country; for example, Chinese provinces or USA states. A few regions also report at an even smaller subdivision, i.e. county/municipality level.\n",
    "\n",
    "To filter only country-level data from the dataset, look for records that have a `aggregation_level == 0` or, alternatively, null value for the `subregion1_code` (or `subregion1_name`) field:"
   ]
  },
  {
   "cell_type": "code",
   "execution_count": 2,
   "metadata": {},
   "outputs": [
    {
     "output_type": "execute_result",
     "data": {
      "text/plain": "       key wikidata  datacommons country_code country_name 3166-1-alpha-2  \\\n268679  ZW     Q954  country/ZWE           ZW     Zimbabwe             ZW   \n268680  ZW     Q954  country/ZWE           ZW     Zimbabwe             ZW   \n268681  ZW     Q954  country/ZWE           ZW     Zimbabwe             ZW   \n268682  ZW     Q954  country/ZWE           ZW     Zimbabwe             ZW   \n268683  ZW     Q954  country/ZWE           ZW     Zimbabwe             ZW   \n\n       3166-1-alpha-3  aggregation_level        date  new_confirmed  ...  \\\n268679            ZWE                  0  2020-05-16            2.0  ...   \n268680            ZWE                  0  2020-05-17            2.0  ...   \n268681            ZWE                  0  2020-05-18            0.0  ...   \n268682            ZWE                  0  2020-05-19            0.0  ...   \n268683            ZWE                  0  2020-05-20            2.0  ...   \n\n        income_support  debt_relief  fiscal_measures  international_support  \\\n268679             1.0          0.0              0.0                    0.0   \n268680             1.0          0.0              0.0                    0.0   \n268681             1.0          0.0              0.0                    0.0   \n268682             1.0          NaN              NaN                    NaN   \n268683             NaN          NaN              NaN                    NaN   \n\n        public_information_campaigns  testing_policy  contact_tracing  \\\n268679                           2.0             1.0              1.0   \n268680                           2.0             1.0              1.0   \n268681                           2.0             1.0              1.0   \n268682                           2.0             1.0              1.0   \n268683                           NaN             NaN              NaN   \n\n       emergency_investment_in_healthcare  investment_in_vaccines  \\\n268679                                0.0                     0.0   \n268680                                0.0                     0.0   \n268681                                0.0                     0.0   \n268682                                0.0                     0.0   \n268683                                NaN                     NaN   \n\n        stringency_index  \n268679              91.4  \n268680              91.4  \n268681              91.4  \n268682               NaN  \n268683               NaN  \n\n[5 rows x 50 columns]",
      "text/html": "<div>\n<style scoped>\n    .dataframe tbody tr th:only-of-type {\n        vertical-align: middle;\n    }\n\n    .dataframe tbody tr th {\n        vertical-align: top;\n    }\n\n    .dataframe thead th {\n        text-align: right;\n    }\n</style>\n<table border=\"1\" class=\"dataframe\">\n  <thead>\n    <tr style=\"text-align: right;\">\n      <th></th>\n      <th>key</th>\n      <th>wikidata</th>\n      <th>datacommons</th>\n      <th>country_code</th>\n      <th>country_name</th>\n      <th>3166-1-alpha-2</th>\n      <th>3166-1-alpha-3</th>\n      <th>aggregation_level</th>\n      <th>date</th>\n      <th>new_confirmed</th>\n      <th>...</th>\n      <th>income_support</th>\n      <th>debt_relief</th>\n      <th>fiscal_measures</th>\n      <th>international_support</th>\n      <th>public_information_campaigns</th>\n      <th>testing_policy</th>\n      <th>contact_tracing</th>\n      <th>emergency_investment_in_healthcare</th>\n      <th>investment_in_vaccines</th>\n      <th>stringency_index</th>\n    </tr>\n  </thead>\n  <tbody>\n    <tr>\n      <th>268679</th>\n      <td>ZW</td>\n      <td>Q954</td>\n      <td>country/ZWE</td>\n      <td>ZW</td>\n      <td>Zimbabwe</td>\n      <td>ZW</td>\n      <td>ZWE</td>\n      <td>0</td>\n      <td>2020-05-16</td>\n      <td>2.0</td>\n      <td>...</td>\n      <td>1.0</td>\n      <td>0.0</td>\n      <td>0.0</td>\n      <td>0.0</td>\n      <td>2.0</td>\n      <td>1.0</td>\n      <td>1.0</td>\n      <td>0.0</td>\n      <td>0.0</td>\n      <td>91.4</td>\n    </tr>\n    <tr>\n      <th>268680</th>\n      <td>ZW</td>\n      <td>Q954</td>\n      <td>country/ZWE</td>\n      <td>ZW</td>\n      <td>Zimbabwe</td>\n      <td>ZW</td>\n      <td>ZWE</td>\n      <td>0</td>\n      <td>2020-05-17</td>\n      <td>2.0</td>\n      <td>...</td>\n      <td>1.0</td>\n      <td>0.0</td>\n      <td>0.0</td>\n      <td>0.0</td>\n      <td>2.0</td>\n      <td>1.0</td>\n      <td>1.0</td>\n      <td>0.0</td>\n      <td>0.0</td>\n      <td>91.4</td>\n    </tr>\n    <tr>\n      <th>268681</th>\n      <td>ZW</td>\n      <td>Q954</td>\n      <td>country/ZWE</td>\n      <td>ZW</td>\n      <td>Zimbabwe</td>\n      <td>ZW</td>\n      <td>ZWE</td>\n      <td>0</td>\n      <td>2020-05-18</td>\n      <td>0.0</td>\n      <td>...</td>\n      <td>1.0</td>\n      <td>0.0</td>\n      <td>0.0</td>\n      <td>0.0</td>\n      <td>2.0</td>\n      <td>1.0</td>\n      <td>1.0</td>\n      <td>0.0</td>\n      <td>0.0</td>\n      <td>91.4</td>\n    </tr>\n    <tr>\n      <th>268682</th>\n      <td>ZW</td>\n      <td>Q954</td>\n      <td>country/ZWE</td>\n      <td>ZW</td>\n      <td>Zimbabwe</td>\n      <td>ZW</td>\n      <td>ZWE</td>\n      <td>0</td>\n      <td>2020-05-19</td>\n      <td>0.0</td>\n      <td>...</td>\n      <td>1.0</td>\n      <td>NaN</td>\n      <td>NaN</td>\n      <td>NaN</td>\n      <td>2.0</td>\n      <td>1.0</td>\n      <td>1.0</td>\n      <td>0.0</td>\n      <td>0.0</td>\n      <td>NaN</td>\n    </tr>\n    <tr>\n      <th>268683</th>\n      <td>ZW</td>\n      <td>Q954</td>\n      <td>country/ZWE</td>\n      <td>ZW</td>\n      <td>Zimbabwe</td>\n      <td>ZW</td>\n      <td>ZWE</td>\n      <td>0</td>\n      <td>2020-05-20</td>\n      <td>2.0</td>\n      <td>...</td>\n      <td>NaN</td>\n      <td>NaN</td>\n      <td>NaN</td>\n      <td>NaN</td>\n      <td>NaN</td>\n      <td>NaN</td>\n      <td>NaN</td>\n      <td>NaN</td>\n      <td>NaN</td>\n      <td>NaN</td>\n    </tr>\n  </tbody>\n</table>\n<p>5 rows × 50 columns</p>\n</div>"
     },
     "metadata": {},
     "execution_count": 2
    }
   ],
   "source": [
    "# Look for rows with country level data\n",
    "# Same as `data[data.subregion2_code.isna()]`\n",
    "countries = data[data.aggregation_level == 0]\n",
    "\n",
    "# We no longer need the subregion-level columns\n",
    "countries = countries.drop(columns=['subregion1_code', 'subregion1_name', 'subregion2_code', 'subregion2_name'])\n",
    "\n",
    "countries.tail()"
   ]
  },
  {
   "cell_type": "markdown",
   "metadata": {},
   "source": [
    "### Looking at state/province data\n",
    "Conversely, to filter state/province data for a specific country, we need to look for records where the aggregation level is `1` (or where the region columns have non-null values). The following snippet extracts data related to Spain's subregions from the dataset:"
   ]
  },
  {
   "cell_type": "code",
   "execution_count": 3,
   "metadata": {},
   "outputs": [
    {
     "output_type": "execute_result",
     "data": {
      "text/plain": "         key wikidata datacommons country_code country_name subregion1_code  \\\n23362  ES_VC    Q5720   nuts/ES52           ES        Spain              VC   \n23363  ES_VC    Q5720   nuts/ES52           ES        Spain              VC   \n23364  ES_VC    Q5720   nuts/ES52           ES        Spain              VC   \n23365  ES_VC    Q5720   nuts/ES52           ES        Spain              VC   \n23366  ES_VC    Q5720   nuts/ES52           ES        Spain              VC   \n\n            subregion1_name 3166-1-alpha-2 3166-1-alpha-3  aggregation_level  \\\n23362  Comunidad Valenciana             ES            ESP                  1   \n23363  Comunidad Valenciana             ES            ESP                  1   \n23364  Comunidad Valenciana             ES            ESP                  1   \n23365  Comunidad Valenciana             ES            ESP                  1   \n23366  Comunidad Valenciana             ES            ESP                  1   \n\n       ... income_support  debt_relief  fiscal_measures  \\\n23362  ...            NaN          NaN              NaN   \n23363  ...            NaN          NaN              NaN   \n23364  ...            NaN          NaN              NaN   \n23365  ...            NaN          NaN              NaN   \n23366  ...            NaN          NaN              NaN   \n\n       international_support  public_information_campaigns  testing_policy  \\\n23362                    NaN                           NaN             NaN   \n23363                    NaN                           NaN             NaN   \n23364                    NaN                           NaN             NaN   \n23365                    NaN                           NaN             NaN   \n23366                    NaN                           NaN             NaN   \n\n       contact_tracing  emergency_investment_in_healthcare  \\\n23362              NaN                                 NaN   \n23363              NaN                                 NaN   \n23364              NaN                                 NaN   \n23365              NaN                                 NaN   \n23366              NaN                                 NaN   \n\n       investment_in_vaccines stringency_index  \n23362                     NaN              NaN  \n23363                     NaN              NaN  \n23364                     NaN              NaN  \n23365                     NaN              NaN  \n23366                     NaN              NaN  \n\n[5 rows x 52 columns]",
      "text/html": "<div>\n<style scoped>\n    .dataframe tbody tr th:only-of-type {\n        vertical-align: middle;\n    }\n\n    .dataframe tbody tr th {\n        vertical-align: top;\n    }\n\n    .dataframe thead th {\n        text-align: right;\n    }\n</style>\n<table border=\"1\" class=\"dataframe\">\n  <thead>\n    <tr style=\"text-align: right;\">\n      <th></th>\n      <th>key</th>\n      <th>wikidata</th>\n      <th>datacommons</th>\n      <th>country_code</th>\n      <th>country_name</th>\n      <th>subregion1_code</th>\n      <th>subregion1_name</th>\n      <th>3166-1-alpha-2</th>\n      <th>3166-1-alpha-3</th>\n      <th>aggregation_level</th>\n      <th>...</th>\n      <th>income_support</th>\n      <th>debt_relief</th>\n      <th>fiscal_measures</th>\n      <th>international_support</th>\n      <th>public_information_campaigns</th>\n      <th>testing_policy</th>\n      <th>contact_tracing</th>\n      <th>emergency_investment_in_healthcare</th>\n      <th>investment_in_vaccines</th>\n      <th>stringency_index</th>\n    </tr>\n  </thead>\n  <tbody>\n    <tr>\n      <th>23362</th>\n      <td>ES_VC</td>\n      <td>Q5720</td>\n      <td>nuts/ES52</td>\n      <td>ES</td>\n      <td>Spain</td>\n      <td>VC</td>\n      <td>Comunidad Valenciana</td>\n      <td>ES</td>\n      <td>ESP</td>\n      <td>1</td>\n      <td>...</td>\n      <td>NaN</td>\n      <td>NaN</td>\n      <td>NaN</td>\n      <td>NaN</td>\n      <td>NaN</td>\n      <td>NaN</td>\n      <td>NaN</td>\n      <td>NaN</td>\n      <td>NaN</td>\n      <td>NaN</td>\n    </tr>\n    <tr>\n      <th>23363</th>\n      <td>ES_VC</td>\n      <td>Q5720</td>\n      <td>nuts/ES52</td>\n      <td>ES</td>\n      <td>Spain</td>\n      <td>VC</td>\n      <td>Comunidad Valenciana</td>\n      <td>ES</td>\n      <td>ESP</td>\n      <td>1</td>\n      <td>...</td>\n      <td>NaN</td>\n      <td>NaN</td>\n      <td>NaN</td>\n      <td>NaN</td>\n      <td>NaN</td>\n      <td>NaN</td>\n      <td>NaN</td>\n      <td>NaN</td>\n      <td>NaN</td>\n      <td>NaN</td>\n    </tr>\n    <tr>\n      <th>23364</th>\n      <td>ES_VC</td>\n      <td>Q5720</td>\n      <td>nuts/ES52</td>\n      <td>ES</td>\n      <td>Spain</td>\n      <td>VC</td>\n      <td>Comunidad Valenciana</td>\n      <td>ES</td>\n      <td>ESP</td>\n      <td>1</td>\n      <td>...</td>\n      <td>NaN</td>\n      <td>NaN</td>\n      <td>NaN</td>\n      <td>NaN</td>\n      <td>NaN</td>\n      <td>NaN</td>\n      <td>NaN</td>\n      <td>NaN</td>\n      <td>NaN</td>\n      <td>NaN</td>\n    </tr>\n    <tr>\n      <th>23365</th>\n      <td>ES_VC</td>\n      <td>Q5720</td>\n      <td>nuts/ES52</td>\n      <td>ES</td>\n      <td>Spain</td>\n      <td>VC</td>\n      <td>Comunidad Valenciana</td>\n      <td>ES</td>\n      <td>ESP</td>\n      <td>1</td>\n      <td>...</td>\n      <td>NaN</td>\n      <td>NaN</td>\n      <td>NaN</td>\n      <td>NaN</td>\n      <td>NaN</td>\n      <td>NaN</td>\n      <td>NaN</td>\n      <td>NaN</td>\n      <td>NaN</td>\n      <td>NaN</td>\n    </tr>\n    <tr>\n      <th>23366</th>\n      <td>ES_VC</td>\n      <td>Q5720</td>\n      <td>nuts/ES52</td>\n      <td>ES</td>\n      <td>Spain</td>\n      <td>VC</td>\n      <td>Comunidad Valenciana</td>\n      <td>ES</td>\n      <td>ESP</td>\n      <td>1</td>\n      <td>...</td>\n      <td>NaN</td>\n      <td>NaN</td>\n      <td>NaN</td>\n      <td>NaN</td>\n      <td>NaN</td>\n      <td>NaN</td>\n      <td>NaN</td>\n      <td>NaN</td>\n      <td>NaN</td>\n      <td>NaN</td>\n    </tr>\n  </tbody>\n</table>\n<p>5 rows × 52 columns</p>\n</div>"
     },
     "metadata": {},
     "execution_count": 3
    }
   ],
   "source": [
    "# Filter records that have the right country code AND a non-null region code\n",
    "# Same as `data[(data.country_code == 'ES') & ~(data.subregion`_code.isna())]`\n",
    "spain_regions = data[(data.country_code == 'ES') & (data.aggregation_level == 1)]\n",
    "\n",
    "# We no longer need the municipality-level columns\n",
    "spain_regions = spain_regions.drop(columns=['subregion2_code', 'subregion2_name'])\n",
    "\n",
    "spain_regions.tail()"
   ]
  },
  {
   "cell_type": "markdown",
   "metadata": {},
   "source": [
    "### Using the `key` column\n",
    "The `key` column is present in all datasets and is unique for each combination of country, province/state and municipality/county. This way, we can retrieve a specific country or region using a single filter for the data. The `key` column is built using `country_code` for country-level data, `${country_code}_${subregion1_code}` for province/state level data, and `${country_code}_${subregion1_code}_${subregion2_code}` for municipality/county data:"
   ]
  },
  {
   "cell_type": "code",
   "execution_count": 5,
   "metadata": {},
   "outputs": [
    {
     "output_type": "execute_result",
     "data": {
      "text/plain": "      key wikidata  datacommons country_code country_name 3166-1-alpha-2  \\\n21652  ES      Q29  country/ESP           ES        Spain             ES   \n21653  ES      Q29  country/ESP           ES        Spain             ES   \n21654  ES      Q29  country/ESP           ES        Spain             ES   \n21655  ES      Q29  country/ESP           ES        Spain             ES   \n21656  ES      Q29  country/ESP           ES        Spain             ES   \n\n      3166-1-alpha-3  aggregation_level        date  new_confirmed  ...  \\\n21652            ESP                  0  2020-05-16          562.0  ...   \n21653            ESP                  0  2020-05-17          321.0  ...   \n21654            ESP                  0  2020-05-18          209.0  ...   \n21655            ESP                  0  2020-05-19          416.0  ...   \n21656            ESP                  0  2020-05-20          518.0  ...   \n\n       income_support  debt_relief  fiscal_measures  international_support  \\\n21652             2.0          NaN              NaN                    NaN   \n21653             2.0          NaN              NaN                    NaN   \n21654             2.0          NaN              NaN                    NaN   \n21655             2.0          NaN              NaN                    NaN   \n21656             2.0          NaN              NaN                    NaN   \n\n       public_information_campaigns  testing_policy  contact_tracing  \\\n21652                           NaN             NaN              NaN   \n21653                           NaN             NaN              NaN   \n21654                           NaN             NaN              NaN   \n21655                           NaN             NaN              NaN   \n21656                           NaN             NaN              NaN   \n\n      emergency_investment_in_healthcare  investment_in_vaccines  \\\n21652                                NaN                     NaN   \n21653                                NaN                     NaN   \n21654                                NaN                     NaN   \n21655                                NaN                     NaN   \n21656                                NaN                     NaN   \n\n       stringency_index  \n21652               NaN  \n21653               NaN  \n21654               NaN  \n21655               NaN  \n21656               NaN  \n\n[5 rows x 50 columns]",
      "text/html": "<div>\n<style scoped>\n    .dataframe tbody tr th:only-of-type {\n        vertical-align: middle;\n    }\n\n    .dataframe tbody tr th {\n        vertical-align: top;\n    }\n\n    .dataframe thead th {\n        text-align: right;\n    }\n</style>\n<table border=\"1\" class=\"dataframe\">\n  <thead>\n    <tr style=\"text-align: right;\">\n      <th></th>\n      <th>key</th>\n      <th>wikidata</th>\n      <th>datacommons</th>\n      <th>country_code</th>\n      <th>country_name</th>\n      <th>3166-1-alpha-2</th>\n      <th>3166-1-alpha-3</th>\n      <th>aggregation_level</th>\n      <th>date</th>\n      <th>new_confirmed</th>\n      <th>...</th>\n      <th>income_support</th>\n      <th>debt_relief</th>\n      <th>fiscal_measures</th>\n      <th>international_support</th>\n      <th>public_information_campaigns</th>\n      <th>testing_policy</th>\n      <th>contact_tracing</th>\n      <th>emergency_investment_in_healthcare</th>\n      <th>investment_in_vaccines</th>\n      <th>stringency_index</th>\n    </tr>\n  </thead>\n  <tbody>\n    <tr>\n      <th>21652</th>\n      <td>ES</td>\n      <td>Q29</td>\n      <td>country/ESP</td>\n      <td>ES</td>\n      <td>Spain</td>\n      <td>ES</td>\n      <td>ESP</td>\n      <td>0</td>\n      <td>2020-05-16</td>\n      <td>562.0</td>\n      <td>...</td>\n      <td>2.0</td>\n      <td>NaN</td>\n      <td>NaN</td>\n      <td>NaN</td>\n      <td>NaN</td>\n      <td>NaN</td>\n      <td>NaN</td>\n      <td>NaN</td>\n      <td>NaN</td>\n      <td>NaN</td>\n    </tr>\n    <tr>\n      <th>21653</th>\n      <td>ES</td>\n      <td>Q29</td>\n      <td>country/ESP</td>\n      <td>ES</td>\n      <td>Spain</td>\n      <td>ES</td>\n      <td>ESP</td>\n      <td>0</td>\n      <td>2020-05-17</td>\n      <td>321.0</td>\n      <td>...</td>\n      <td>2.0</td>\n      <td>NaN</td>\n      <td>NaN</td>\n      <td>NaN</td>\n      <td>NaN</td>\n      <td>NaN</td>\n      <td>NaN</td>\n      <td>NaN</td>\n      <td>NaN</td>\n      <td>NaN</td>\n    </tr>\n    <tr>\n      <th>21654</th>\n      <td>ES</td>\n      <td>Q29</td>\n      <td>country/ESP</td>\n      <td>ES</td>\n      <td>Spain</td>\n      <td>ES</td>\n      <td>ESP</td>\n      <td>0</td>\n      <td>2020-05-18</td>\n      <td>209.0</td>\n      <td>...</td>\n      <td>2.0</td>\n      <td>NaN</td>\n      <td>NaN</td>\n      <td>NaN</td>\n      <td>NaN</td>\n      <td>NaN</td>\n      <td>NaN</td>\n      <td>NaN</td>\n      <td>NaN</td>\n      <td>NaN</td>\n    </tr>\n    <tr>\n      <th>21655</th>\n      <td>ES</td>\n      <td>Q29</td>\n      <td>country/ESP</td>\n      <td>ES</td>\n      <td>Spain</td>\n      <td>ES</td>\n      <td>ESP</td>\n      <td>0</td>\n      <td>2020-05-19</td>\n      <td>416.0</td>\n      <td>...</td>\n      <td>2.0</td>\n      <td>NaN</td>\n      <td>NaN</td>\n      <td>NaN</td>\n      <td>NaN</td>\n      <td>NaN</td>\n      <td>NaN</td>\n      <td>NaN</td>\n      <td>NaN</td>\n      <td>NaN</td>\n    </tr>\n    <tr>\n      <th>21656</th>\n      <td>ES</td>\n      <td>Q29</td>\n      <td>country/ESP</td>\n      <td>ES</td>\n      <td>Spain</td>\n      <td>ES</td>\n      <td>ESP</td>\n      <td>0</td>\n      <td>2020-05-20</td>\n      <td>518.0</td>\n      <td>...</td>\n      <td>2.0</td>\n      <td>NaN</td>\n      <td>NaN</td>\n      <td>NaN</td>\n      <td>NaN</td>\n      <td>NaN</td>\n      <td>NaN</td>\n      <td>NaN</td>\n      <td>NaN</td>\n      <td>NaN</td>\n    </tr>\n  </tbody>\n</table>\n<p>5 rows × 50 columns</p>\n</div>"
     },
     "metadata": {},
     "execution_count": 5
    }
   ],
   "source": [
    "# Filter records for Spain at the country-level\n",
    "spain_country = data[data.key == 'ES']\n",
    "\n",
    "# We no longer need the subregion-level columns\n",
    "spain_country = spain_country.drop(columns=['subregion1_code', 'subregion1_name', 'subregion2_code', 'subregion2_name'])\n",
    "\n",
    "spain_country.tail()"
   ]
  },
  {
   "cell_type": "code",
   "execution_count": 6,
   "metadata": {},
   "outputs": [
    {
     "output_type": "execute_result",
     "data": {
      "text/plain": "         key wikidata datacommons country_code country_name subregion1_code  \\\n22912  ES_MD    Q5756   nuts/ES30           ES        Spain              MD   \n22913  ES_MD    Q5756   nuts/ES30           ES        Spain              MD   \n22914  ES_MD    Q5756   nuts/ES30           ES        Spain              MD   \n22915  ES_MD    Q5756   nuts/ES30           ES        Spain              MD   \n22916  ES_MD    Q5756   nuts/ES30           ES        Spain              MD   \n\n      subregion1_name subregion2_code subregion2_name 3166-1-alpha-2  ...  \\\n22912          Madrid             NaN             NaN             ES  ...   \n22913          Madrid             NaN             NaN             ES  ...   \n22914          Madrid             NaN             NaN             ES  ...   \n22915          Madrid             NaN             NaN             ES  ...   \n22916          Madrid             NaN             NaN             ES  ...   \n\n      income_support  debt_relief fiscal_measures  international_support  \\\n22912            NaN          NaN             NaN                    NaN   \n22913            NaN          NaN             NaN                    NaN   \n22914            NaN          NaN             NaN                    NaN   \n22915            NaN          NaN             NaN                    NaN   \n22916            NaN          NaN             NaN                    NaN   \n\n       public_information_campaigns  testing_policy  contact_tracing  \\\n22912                           NaN             NaN              NaN   \n22913                           NaN             NaN              NaN   \n22914                           NaN             NaN              NaN   \n22915                           NaN             NaN              NaN   \n22916                           NaN             NaN              NaN   \n\n       emergency_investment_in_healthcare  investment_in_vaccines  \\\n22912                                 NaN                     NaN   \n22913                                 NaN                     NaN   \n22914                                 NaN                     NaN   \n22915                                 NaN                     NaN   \n22916                                 NaN                     NaN   \n\n       stringency_index  \n22912               NaN  \n22913               NaN  \n22914               NaN  \n22915               NaN  \n22916               NaN  \n\n[5 rows x 54 columns]",
      "text/html": "<div>\n<style scoped>\n    .dataframe tbody tr th:only-of-type {\n        vertical-align: middle;\n    }\n\n    .dataframe tbody tr th {\n        vertical-align: top;\n    }\n\n    .dataframe thead th {\n        text-align: right;\n    }\n</style>\n<table border=\"1\" class=\"dataframe\">\n  <thead>\n    <tr style=\"text-align: right;\">\n      <th></th>\n      <th>key</th>\n      <th>wikidata</th>\n      <th>datacommons</th>\n      <th>country_code</th>\n      <th>country_name</th>\n      <th>subregion1_code</th>\n      <th>subregion1_name</th>\n      <th>subregion2_code</th>\n      <th>subregion2_name</th>\n      <th>3166-1-alpha-2</th>\n      <th>...</th>\n      <th>income_support</th>\n      <th>debt_relief</th>\n      <th>fiscal_measures</th>\n      <th>international_support</th>\n      <th>public_information_campaigns</th>\n      <th>testing_policy</th>\n      <th>contact_tracing</th>\n      <th>emergency_investment_in_healthcare</th>\n      <th>investment_in_vaccines</th>\n      <th>stringency_index</th>\n    </tr>\n  </thead>\n  <tbody>\n    <tr>\n      <th>22912</th>\n      <td>ES_MD</td>\n      <td>Q5756</td>\n      <td>nuts/ES30</td>\n      <td>ES</td>\n      <td>Spain</td>\n      <td>MD</td>\n      <td>Madrid</td>\n      <td>NaN</td>\n      <td>NaN</td>\n      <td>ES</td>\n      <td>...</td>\n      <td>NaN</td>\n      <td>NaN</td>\n      <td>NaN</td>\n      <td>NaN</td>\n      <td>NaN</td>\n      <td>NaN</td>\n      <td>NaN</td>\n      <td>NaN</td>\n      <td>NaN</td>\n      <td>NaN</td>\n    </tr>\n    <tr>\n      <th>22913</th>\n      <td>ES_MD</td>\n      <td>Q5756</td>\n      <td>nuts/ES30</td>\n      <td>ES</td>\n      <td>Spain</td>\n      <td>MD</td>\n      <td>Madrid</td>\n      <td>NaN</td>\n      <td>NaN</td>\n      <td>ES</td>\n      <td>...</td>\n      <td>NaN</td>\n      <td>NaN</td>\n      <td>NaN</td>\n      <td>NaN</td>\n      <td>NaN</td>\n      <td>NaN</td>\n      <td>NaN</td>\n      <td>NaN</td>\n      <td>NaN</td>\n      <td>NaN</td>\n    </tr>\n    <tr>\n      <th>22914</th>\n      <td>ES_MD</td>\n      <td>Q5756</td>\n      <td>nuts/ES30</td>\n      <td>ES</td>\n      <td>Spain</td>\n      <td>MD</td>\n      <td>Madrid</td>\n      <td>NaN</td>\n      <td>NaN</td>\n      <td>ES</td>\n      <td>...</td>\n      <td>NaN</td>\n      <td>NaN</td>\n      <td>NaN</td>\n      <td>NaN</td>\n      <td>NaN</td>\n      <td>NaN</td>\n      <td>NaN</td>\n      <td>NaN</td>\n      <td>NaN</td>\n      <td>NaN</td>\n    </tr>\n    <tr>\n      <th>22915</th>\n      <td>ES_MD</td>\n      <td>Q5756</td>\n      <td>nuts/ES30</td>\n      <td>ES</td>\n      <td>Spain</td>\n      <td>MD</td>\n      <td>Madrid</td>\n      <td>NaN</td>\n      <td>NaN</td>\n      <td>ES</td>\n      <td>...</td>\n      <td>NaN</td>\n      <td>NaN</td>\n      <td>NaN</td>\n      <td>NaN</td>\n      <td>NaN</td>\n      <td>NaN</td>\n      <td>NaN</td>\n      <td>NaN</td>\n      <td>NaN</td>\n      <td>NaN</td>\n    </tr>\n    <tr>\n      <th>22916</th>\n      <td>ES_MD</td>\n      <td>Q5756</td>\n      <td>nuts/ES30</td>\n      <td>ES</td>\n      <td>Spain</td>\n      <td>MD</td>\n      <td>Madrid</td>\n      <td>NaN</td>\n      <td>NaN</td>\n      <td>ES</td>\n      <td>...</td>\n      <td>NaN</td>\n      <td>NaN</td>\n      <td>NaN</td>\n      <td>NaN</td>\n      <td>NaN</td>\n      <td>NaN</td>\n      <td>NaN</td>\n      <td>NaN</td>\n      <td>NaN</td>\n      <td>NaN</td>\n    </tr>\n  </tbody>\n</table>\n<p>5 rows × 54 columns</p>\n</div>"
     },
     "metadata": {},
     "execution_count": 6
    }
   ],
   "source": [
    "# Filter records for Madrid, one of the subregions of Spain\n",
    "madrid = data[data.key == 'ES_MD']\n",
    "\n",
    "madrid.tail()"
   ]
  },
  {
   "cell_type": "markdown",
   "metadata": {},
   "source": [
    "### Dataset Subsets\n",
    "The master table can be large and cumbersome depending on your application. If you only need a subset of the data, for example only epidemiology, here's how you would get only that data for Madrid:"
   ]
  },
  {
   "cell_type": "code",
   "execution_count": 7,
   "metadata": {},
   "outputs": [
    {
     "output_type": "execute_result",
     "data": {
      "text/plain": "              date    key  new_confirmed  new_deceased  new_recovered  \\\n243091  2020-05-15  ES_MD          104.0          17.0            NaN   \n247340  2020-05-16  ES_MD           24.0          21.0            NaN   \n251534  2020-05-17  ES_MD           28.0          16.0            NaN   \n255749  2020-05-18  ES_MD          123.0          31.0            NaN   \n259962  2020-05-19  ES_MD          112.0          18.0            NaN   \n\n        new_tested  total_confirmed  total_deceased  total_recovered  \\\n243091         NaN          66573.0          8826.0              NaN   \n247340         NaN          66597.0          8847.0              NaN   \n251534         NaN          66625.0          8863.0              NaN   \n255749         NaN          66748.0          8894.0              NaN   \n259962         NaN          66860.0          8912.0              NaN   \n\n        total_tested  \n243091           NaN  \n247340           NaN  \n251534           NaN  \n255749           NaN  \n259962           NaN  ",
      "text/html": "<div>\n<style scoped>\n    .dataframe tbody tr th:only-of-type {\n        vertical-align: middle;\n    }\n\n    .dataframe tbody tr th {\n        vertical-align: top;\n    }\n\n    .dataframe thead th {\n        text-align: right;\n    }\n</style>\n<table border=\"1\" class=\"dataframe\">\n  <thead>\n    <tr style=\"text-align: right;\">\n      <th></th>\n      <th>date</th>\n      <th>key</th>\n      <th>new_confirmed</th>\n      <th>new_deceased</th>\n      <th>new_recovered</th>\n      <th>new_tested</th>\n      <th>total_confirmed</th>\n      <th>total_deceased</th>\n      <th>total_recovered</th>\n      <th>total_tested</th>\n    </tr>\n  </thead>\n  <tbody>\n    <tr>\n      <th>243091</th>\n      <td>2020-05-15</td>\n      <td>ES_MD</td>\n      <td>104.0</td>\n      <td>17.0</td>\n      <td>NaN</td>\n      <td>NaN</td>\n      <td>66573.0</td>\n      <td>8826.0</td>\n      <td>NaN</td>\n      <td>NaN</td>\n    </tr>\n    <tr>\n      <th>247340</th>\n      <td>2020-05-16</td>\n      <td>ES_MD</td>\n      <td>24.0</td>\n      <td>21.0</td>\n      <td>NaN</td>\n      <td>NaN</td>\n      <td>66597.0</td>\n      <td>8847.0</td>\n      <td>NaN</td>\n      <td>NaN</td>\n    </tr>\n    <tr>\n      <th>251534</th>\n      <td>2020-05-17</td>\n      <td>ES_MD</td>\n      <td>28.0</td>\n      <td>16.0</td>\n      <td>NaN</td>\n      <td>NaN</td>\n      <td>66625.0</td>\n      <td>8863.0</td>\n      <td>NaN</td>\n      <td>NaN</td>\n    </tr>\n    <tr>\n      <th>255749</th>\n      <td>2020-05-18</td>\n      <td>ES_MD</td>\n      <td>123.0</td>\n      <td>31.0</td>\n      <td>NaN</td>\n      <td>NaN</td>\n      <td>66748.0</td>\n      <td>8894.0</td>\n      <td>NaN</td>\n      <td>NaN</td>\n    </tr>\n    <tr>\n      <th>259962</th>\n      <td>2020-05-19</td>\n      <td>ES_MD</td>\n      <td>112.0</td>\n      <td>18.0</td>\n      <td>NaN</td>\n      <td>NaN</td>\n      <td>66860.0</td>\n      <td>8912.0</td>\n      <td>NaN</td>\n      <td>NaN</td>\n    </tr>\n  </tbody>\n</table>\n</div>"
     },
     "metadata": {},
     "execution_count": 7
    }
   ],
   "source": [
    "# Load the epidemiology table\n",
    "# Note that all the helper columns such as country code, country name, aggregation level, etc. are present in the\n",
    "# `index` table; we only have the key here\n",
    "epi = pd.read_csv('https://open-covid-19.github.io/data/v2/epidemiology.csv')\n",
    "\n",
    "# Filter records for Madrid, one of the subregions of Spain\n",
    "madrid = epi[epi.key == 'ES_MD']\n",
    "\n",
    "madrid.tail()"
   ]
  },
  {
   "cell_type": "markdown",
   "metadata": {},
   "source": [
    "### Data consistency\n",
    "Often, region-level data and country-level data will come from different sources. This will lead to numbers not adding up exactly, or even date misalignment (the data for the region may be reported sooner or later than the whole country). However, country- and region- level data will *always* be self-consistent"
   ]
  }
 ],
 "metadata": {
  "file_extension": ".py",
  "kernelspec": {
   "display_name": "Python 3",
   "language": "python",
   "name": "python3"
  },
  "language_info": {
   "codemirror_mode": {
    "name": "ipython",
    "version": 3
   },
   "file_extension": ".py",
   "mimetype": "text/x-python",
   "name": "python",
   "nbconvert_exporter": "python",
   "pygments_lexer": "ipython3",
   "version": "3.7.6-final"
  },
  "mimetype": "text/x-python",
  "name": "python",
  "npconvert_exporter": "python",
  "pygments_lexer": "ipython3",
  "version": 3
 },
 "nbformat": 4,
 "nbformat_minor": 4
}