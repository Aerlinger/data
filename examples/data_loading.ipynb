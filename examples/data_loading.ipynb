{
 "cells": [
  {
   "cell_type": "markdown",
   "metadata": {},
   "source": [
    "# Loading the Open COVID-19 Dataset\n",
    "This very short notebook showcases how to load the [Open COVID-19 datset](https://github.com/open-covid-19/data), including some examples for commonly performed operations.\n",
    "\n",
    "First, loading the data is very simple with `pandas`. We can use the CSV or the JSON file to download the entire Open COVID-19 dataset in a single step:"
   ]
  },
  {
   "cell_type": "code",
   "execution_count": 1,
   "metadata": {},
   "outputs": [
    {
     "output_type": "stream",
     "name": "stdout",
     "text": "The dataset currently contains 261913 records, here are the last few:\n"
    },
    {
     "output_type": "execute_result",
     "data": {
      "text/plain": "       key wikidata  datacommons country_code country_name subregion1_code  \\\n261908  ZW     Q954  country/ZWE           ZW     Zimbabwe             NaN   \n261909  ZW     Q954  country/ZWE           ZW     Zimbabwe             NaN   \n261910  ZW     Q954  country/ZWE           ZW     Zimbabwe             NaN   \n261911  ZW     Q954  country/ZWE           ZW     Zimbabwe             NaN   \n261912  ZW     Q954  country/ZWE           ZW     Zimbabwe             NaN   \n\n       subregion1_name subregion2_code subregion2_name 3166-1-alpha-2  ...  \\\n261908             NaN             NaN             NaN             ZW  ...   \n261909             NaN             NaN             NaN             ZW  ...   \n261910             NaN             NaN             NaN             ZW  ...   \n261911             NaN             NaN             NaN             ZW  ...   \n261912             NaN             NaN             NaN             ZW  ...   \n\n       international_support  public_information_campaigns testing_policy  \\\n261908                   0.0                           2.0            1.0   \n261909                   0.0                           2.0            1.0   \n261910                   0.0                           2.0            1.0   \n261911                   0.0                           2.0            1.0   \n261912                   NaN                           2.0            1.0   \n\n        contact_tracing  emergency_investment_in_healthcare  \\\n261908              2.0                                 0.0   \n261909              2.0                                 0.0   \n261910              2.0                                 0.0   \n261911              2.0                                 0.0   \n261912              2.0                                 0.0   \n\n        investment_in_vaccines  stringency_index  population  life_expectancy  \\\n261908                     0.0              91.4   3752390.0           45.647   \n261909                     0.0              91.4   3752390.0           45.647   \n261910                     0.0              91.4   3752390.0           45.647   \n261911                     0.0              91.4   3752390.0           45.647   \n261912                     0.0               NaN   3752390.0           45.647   \n\n        human_development_index  \n261908                    0.437  \n261909                    0.437  \n261910                    0.437  \n261911                    0.437  \n261912                    0.437  \n\n[5 rows x 54 columns]",
      "text/html": "<div>\n<style scoped>\n    .dataframe tbody tr th:only-of-type {\n        vertical-align: middle;\n    }\n\n    .dataframe tbody tr th {\n        vertical-align: top;\n    }\n\n    .dataframe thead th {\n        text-align: right;\n    }\n</style>\n<table border=\"1\" class=\"dataframe\">\n  <thead>\n    <tr style=\"text-align: right;\">\n      <th></th>\n      <th>key</th>\n      <th>wikidata</th>\n      <th>datacommons</th>\n      <th>country_code</th>\n      <th>country_name</th>\n      <th>subregion1_code</th>\n      <th>subregion1_name</th>\n      <th>subregion2_code</th>\n      <th>subregion2_name</th>\n      <th>3166-1-alpha-2</th>\n      <th>...</th>\n      <th>international_support</th>\n      <th>public_information_campaigns</th>\n      <th>testing_policy</th>\n      <th>contact_tracing</th>\n      <th>emergency_investment_in_healthcare</th>\n      <th>investment_in_vaccines</th>\n      <th>stringency_index</th>\n      <th>population</th>\n      <th>life_expectancy</th>\n      <th>human_development_index</th>\n    </tr>\n  </thead>\n  <tbody>\n    <tr>\n      <th>261908</th>\n      <td>ZW</td>\n      <td>Q954</td>\n      <td>country/ZWE</td>\n      <td>ZW</td>\n      <td>Zimbabwe</td>\n      <td>NaN</td>\n      <td>NaN</td>\n      <td>NaN</td>\n      <td>NaN</td>\n      <td>ZW</td>\n      <td>...</td>\n      <td>0.0</td>\n      <td>2.0</td>\n      <td>1.0</td>\n      <td>2.0</td>\n      <td>0.0</td>\n      <td>0.0</td>\n      <td>91.4</td>\n      <td>3752390.0</td>\n      <td>45.647</td>\n      <td>0.437</td>\n    </tr>\n    <tr>\n      <th>261909</th>\n      <td>ZW</td>\n      <td>Q954</td>\n      <td>country/ZWE</td>\n      <td>ZW</td>\n      <td>Zimbabwe</td>\n      <td>NaN</td>\n      <td>NaN</td>\n      <td>NaN</td>\n      <td>NaN</td>\n      <td>ZW</td>\n      <td>...</td>\n      <td>0.0</td>\n      <td>2.0</td>\n      <td>1.0</td>\n      <td>2.0</td>\n      <td>0.0</td>\n      <td>0.0</td>\n      <td>91.4</td>\n      <td>3752390.0</td>\n      <td>45.647</td>\n      <td>0.437</td>\n    </tr>\n    <tr>\n      <th>261910</th>\n      <td>ZW</td>\n      <td>Q954</td>\n      <td>country/ZWE</td>\n      <td>ZW</td>\n      <td>Zimbabwe</td>\n      <td>NaN</td>\n      <td>NaN</td>\n      <td>NaN</td>\n      <td>NaN</td>\n      <td>ZW</td>\n      <td>...</td>\n      <td>0.0</td>\n      <td>2.0</td>\n      <td>1.0</td>\n      <td>2.0</td>\n      <td>0.0</td>\n      <td>0.0</td>\n      <td>91.4</td>\n      <td>3752390.0</td>\n      <td>45.647</td>\n      <td>0.437</td>\n    </tr>\n    <tr>\n      <th>261911</th>\n      <td>ZW</td>\n      <td>Q954</td>\n      <td>country/ZWE</td>\n      <td>ZW</td>\n      <td>Zimbabwe</td>\n      <td>NaN</td>\n      <td>NaN</td>\n      <td>NaN</td>\n      <td>NaN</td>\n      <td>ZW</td>\n      <td>...</td>\n      <td>0.0</td>\n      <td>2.0</td>\n      <td>1.0</td>\n      <td>2.0</td>\n      <td>0.0</td>\n      <td>0.0</td>\n      <td>91.4</td>\n      <td>3752390.0</td>\n      <td>45.647</td>\n      <td>0.437</td>\n    </tr>\n    <tr>\n      <th>261912</th>\n      <td>ZW</td>\n      <td>Q954</td>\n      <td>country/ZWE</td>\n      <td>ZW</td>\n      <td>Zimbabwe</td>\n      <td>NaN</td>\n      <td>NaN</td>\n      <td>NaN</td>\n      <td>NaN</td>\n      <td>ZW</td>\n      <td>...</td>\n      <td>NaN</td>\n      <td>2.0</td>\n      <td>1.0</td>\n      <td>2.0</td>\n      <td>0.0</td>\n      <td>0.0</td>\n      <td>NaN</td>\n      <td>3752390.0</td>\n      <td>45.647</td>\n      <td>0.437</td>\n    </tr>\n  </tbody>\n</table>\n<p>5 rows × 54 columns</p>\n</div>"
     },
     "metadata": {},
     "execution_count": 1
    }
   ],
   "source": [
    "import pandas as pd\n",
    "\n",
    "# Load CSV data directly from the URL with pandas\n",
    "data = pd.read_csv('https://open-covid-19.github.io/data/v2/master.csv')\n",
    "\n",
    "# Alternatively load the JSON data, which should be identical\n",
    "data_json = pd.read_json('https://open-covid-19.github.io/data/v2/master.json')\n",
    "assert len(data) == len(data_json)\n",
    "\n",
    "# Print a small snippet of the dataset\n",
    "print('The dataset currently contains %d records, here are the last few:' % len(data))\n",
    "data.tail()"
   ]
  },
  {
   "cell_type": "markdown",
   "metadata": {},
   "source": [
    "### Looking at country-level data\n",
    "Some records contain country-level data, in other words, data that is aggregated at the country level. Other records contain region-level data, which are subdivisions of a country; for example, Chinese provinces or USA states. A few regions also report at an even smaller subdivision, i.e. county/municipality level.\n",
    "\n",
    "To filter only country-level data from the dataset, look for records that have a `aggregation_level == 0` or, alternatively, null value for the `subregion1_code` (or `subregion1_name`) field:"
   ]
  },
  {
   "cell_type": "code",
   "execution_count": 2,
   "metadata": {},
   "outputs": [
    {
     "output_type": "execute_result",
     "data": {
      "text/plain": "       key wikidata  datacommons country_code country_name 3166-1-alpha-2  \\\n261908  ZW     Q954  country/ZWE           ZW     Zimbabwe             ZW   \n261909  ZW     Q954  country/ZWE           ZW     Zimbabwe             ZW   \n261910  ZW     Q954  country/ZWE           ZW     Zimbabwe             ZW   \n261911  ZW     Q954  country/ZWE           ZW     Zimbabwe             ZW   \n261912  ZW     Q954  country/ZWE           ZW     Zimbabwe             ZW   \n\n       3166-1-alpha-3  aggregation_level        date  new_confirmed  ...  \\\n261908            ZWE                  0  2020-05-15            5.0  ...   \n261909            ZWE                  0  2020-05-16            2.0  ...   \n261910            ZWE                  0  2020-05-17            2.0  ...   \n261911            ZWE                  0  2020-05-18            0.0  ...   \n261912            ZWE                  0  2020-05-19            0.0  ...   \n\n        international_support  public_information_campaigns  testing_policy  \\\n261908                    0.0                           2.0             1.0   \n261909                    0.0                           2.0             1.0   \n261910                    0.0                           2.0             1.0   \n261911                    0.0                           2.0             1.0   \n261912                    NaN                           2.0             1.0   \n\n        contact_tracing  emergency_investment_in_healthcare  \\\n261908              2.0                                 0.0   \n261909              2.0                                 0.0   \n261910              2.0                                 0.0   \n261911              2.0                                 0.0   \n261912              2.0                                 0.0   \n\n        investment_in_vaccines  stringency_index  population  life_expectancy  \\\n261908                     0.0              91.4   3752390.0           45.647   \n261909                     0.0              91.4   3752390.0           45.647   \n261910                     0.0              91.4   3752390.0           45.647   \n261911                     0.0              91.4   3752390.0           45.647   \n261912                     0.0               NaN   3752390.0           45.647   \n\n        human_development_index  \n261908                    0.437  \n261909                    0.437  \n261910                    0.437  \n261911                    0.437  \n261912                    0.437  \n\n[5 rows x 50 columns]",
      "text/html": "<div>\n<style scoped>\n    .dataframe tbody tr th:only-of-type {\n        vertical-align: middle;\n    }\n\n    .dataframe tbody tr th {\n        vertical-align: top;\n    }\n\n    .dataframe thead th {\n        text-align: right;\n    }\n</style>\n<table border=\"1\" class=\"dataframe\">\n  <thead>\n    <tr style=\"text-align: right;\">\n      <th></th>\n      <th>key</th>\n      <th>wikidata</th>\n      <th>datacommons</th>\n      <th>country_code</th>\n      <th>country_name</th>\n      <th>3166-1-alpha-2</th>\n      <th>3166-1-alpha-3</th>\n      <th>aggregation_level</th>\n      <th>date</th>\n      <th>new_confirmed</th>\n      <th>...</th>\n      <th>international_support</th>\n      <th>public_information_campaigns</th>\n      <th>testing_policy</th>\n      <th>contact_tracing</th>\n      <th>emergency_investment_in_healthcare</th>\n      <th>investment_in_vaccines</th>\n      <th>stringency_index</th>\n      <th>population</th>\n      <th>life_expectancy</th>\n      <th>human_development_index</th>\n    </tr>\n  </thead>\n  <tbody>\n    <tr>\n      <th>261908</th>\n      <td>ZW</td>\n      <td>Q954</td>\n      <td>country/ZWE</td>\n      <td>ZW</td>\n      <td>Zimbabwe</td>\n      <td>ZW</td>\n      <td>ZWE</td>\n      <td>0</td>\n      <td>2020-05-15</td>\n      <td>5.0</td>\n      <td>...</td>\n      <td>0.0</td>\n      <td>2.0</td>\n      <td>1.0</td>\n      <td>2.0</td>\n      <td>0.0</td>\n      <td>0.0</td>\n      <td>91.4</td>\n      <td>3752390.0</td>\n      <td>45.647</td>\n      <td>0.437</td>\n    </tr>\n    <tr>\n      <th>261909</th>\n      <td>ZW</td>\n      <td>Q954</td>\n      <td>country/ZWE</td>\n      <td>ZW</td>\n      <td>Zimbabwe</td>\n      <td>ZW</td>\n      <td>ZWE</td>\n      <td>0</td>\n      <td>2020-05-16</td>\n      <td>2.0</td>\n      <td>...</td>\n      <td>0.0</td>\n      <td>2.0</td>\n      <td>1.0</td>\n      <td>2.0</td>\n      <td>0.0</td>\n      <td>0.0</td>\n      <td>91.4</td>\n      <td>3752390.0</td>\n      <td>45.647</td>\n      <td>0.437</td>\n    </tr>\n    <tr>\n      <th>261910</th>\n      <td>ZW</td>\n      <td>Q954</td>\n      <td>country/ZWE</td>\n      <td>ZW</td>\n      <td>Zimbabwe</td>\n      <td>ZW</td>\n      <td>ZWE</td>\n      <td>0</td>\n      <td>2020-05-17</td>\n      <td>2.0</td>\n      <td>...</td>\n      <td>0.0</td>\n      <td>2.0</td>\n      <td>1.0</td>\n      <td>2.0</td>\n      <td>0.0</td>\n      <td>0.0</td>\n      <td>91.4</td>\n      <td>3752390.0</td>\n      <td>45.647</td>\n      <td>0.437</td>\n    </tr>\n    <tr>\n      <th>261911</th>\n      <td>ZW</td>\n      <td>Q954</td>\n      <td>country/ZWE</td>\n      <td>ZW</td>\n      <td>Zimbabwe</td>\n      <td>ZW</td>\n      <td>ZWE</td>\n      <td>0</td>\n      <td>2020-05-18</td>\n      <td>0.0</td>\n      <td>...</td>\n      <td>0.0</td>\n      <td>2.0</td>\n      <td>1.0</td>\n      <td>2.0</td>\n      <td>0.0</td>\n      <td>0.0</td>\n      <td>91.4</td>\n      <td>3752390.0</td>\n      <td>45.647</td>\n      <td>0.437</td>\n    </tr>\n    <tr>\n      <th>261912</th>\n      <td>ZW</td>\n      <td>Q954</td>\n      <td>country/ZWE</td>\n      <td>ZW</td>\n      <td>Zimbabwe</td>\n      <td>ZW</td>\n      <td>ZWE</td>\n      <td>0</td>\n      <td>2020-05-19</td>\n      <td>0.0</td>\n      <td>...</td>\n      <td>NaN</td>\n      <td>2.0</td>\n      <td>1.0</td>\n      <td>2.0</td>\n      <td>0.0</td>\n      <td>0.0</td>\n      <td>NaN</td>\n      <td>3752390.0</td>\n      <td>45.647</td>\n      <td>0.437</td>\n    </tr>\n  </tbody>\n</table>\n<p>5 rows × 50 columns</p>\n</div>"
     },
     "metadata": {},
     "execution_count": 2
    }
   ],
   "source": [
    "# Look for rows with country level data\n",
    "# Same as `data[data.subregion2_code.isna()]`\n",
    "countries = data[data.aggregation_level == 0]\n",
    "\n",
    "# We no longer need the subregion-level columns\n",
    "countries = countries.drop(columns=['subregion1_code', 'subregion1_name', 'subregion2_code', 'subregion2_name'])\n",
    "\n",
    "countries.tail()"
   ]
  },
  {
   "cell_type": "markdown",
   "metadata": {},
   "source": [
    "### Looking at state/province data\n",
    "Conversely, to filter state/province data for a specific country, we need to look for records where the aggregation level is `1` (or where the region columns have non-null values). The following snippet extracts data related to Spain's subregions from the dataset:"
   ]
  },
  {
   "cell_type": "code",
   "execution_count": 3,
   "metadata": {},
   "outputs": [
    {
     "output_type": "execute_result",
     "data": {
      "text/plain": "         key wikidata datacommons country_code country_name subregion1_code  \\\n20265  ES_VC    Q5720   nuts/ES52           ES        Spain              VC   \n20266  ES_VC    Q5720   nuts/ES52           ES        Spain              VC   \n20267  ES_VC    Q5720   nuts/ES52           ES        Spain              VC   \n20268  ES_VC    Q5720   nuts/ES52           ES        Spain              VC   \n20269  ES_VC    Q5720   nuts/ES52           ES        Spain              VC   \n\n            subregion1_name 3166-1-alpha-2 3166-1-alpha-3  aggregation_level  \\\n20265  Comunidad Valenciana             ES            ESP                  1   \n20266  Comunidad Valenciana             ES            ESP                  1   \n20267  Comunidad Valenciana             ES            ESP                  1   \n20268  Comunidad Valenciana             ES            ESP                  1   \n20269  Comunidad Valenciana             ES            ESP                  1   \n\n       ... international_support  public_information_campaigns  \\\n20265  ...                   NaN                           NaN   \n20266  ...                   NaN                           NaN   \n20267  ...                   NaN                           NaN   \n20268  ...                   NaN                           NaN   \n20269  ...                   NaN                           NaN   \n\n       testing_policy  contact_tracing  emergency_investment_in_healthcare  \\\n20265             NaN              NaN                                 NaN   \n20266             NaN              NaN                                 NaN   \n20267             NaN              NaN                                 NaN   \n20268             NaN              NaN                                 NaN   \n20269             NaN              NaN                                 NaN   \n\n       investment_in_vaccines  stringency_index  population  life_expectancy  \\\n20265                     NaN               NaN   5003769.0              NaN   \n20266                     NaN               NaN   5003769.0              NaN   \n20267                     NaN               NaN   5003769.0              NaN   \n20268                     NaN               NaN   5003769.0              NaN   \n20269                     NaN               NaN   5003769.0              NaN   \n\n       human_development_index  \n20265                      NaN  \n20266                      NaN  \n20267                      NaN  \n20268                      NaN  \n20269                      NaN  \n\n[5 rows x 52 columns]",
      "text/html": "<div>\n<style scoped>\n    .dataframe tbody tr th:only-of-type {\n        vertical-align: middle;\n    }\n\n    .dataframe tbody tr th {\n        vertical-align: top;\n    }\n\n    .dataframe thead th {\n        text-align: right;\n    }\n</style>\n<table border=\"1\" class=\"dataframe\">\n  <thead>\n    <tr style=\"text-align: right;\">\n      <th></th>\n      <th>key</th>\n      <th>wikidata</th>\n      <th>datacommons</th>\n      <th>country_code</th>\n      <th>country_name</th>\n      <th>subregion1_code</th>\n      <th>subregion1_name</th>\n      <th>3166-1-alpha-2</th>\n      <th>3166-1-alpha-3</th>\n      <th>aggregation_level</th>\n      <th>...</th>\n      <th>international_support</th>\n      <th>public_information_campaigns</th>\n      <th>testing_policy</th>\n      <th>contact_tracing</th>\n      <th>emergency_investment_in_healthcare</th>\n      <th>investment_in_vaccines</th>\n      <th>stringency_index</th>\n      <th>population</th>\n      <th>life_expectancy</th>\n      <th>human_development_index</th>\n    </tr>\n  </thead>\n  <tbody>\n    <tr>\n      <th>20265</th>\n      <td>ES_VC</td>\n      <td>Q5720</td>\n      <td>nuts/ES52</td>\n      <td>ES</td>\n      <td>Spain</td>\n      <td>VC</td>\n      <td>Comunidad Valenciana</td>\n      <td>ES</td>\n      <td>ESP</td>\n      <td>1</td>\n      <td>...</td>\n      <td>NaN</td>\n      <td>NaN</td>\n      <td>NaN</td>\n      <td>NaN</td>\n      <td>NaN</td>\n      <td>NaN</td>\n      <td>NaN</td>\n      <td>5003769.0</td>\n      <td>NaN</td>\n      <td>NaN</td>\n    </tr>\n    <tr>\n      <th>20266</th>\n      <td>ES_VC</td>\n      <td>Q5720</td>\n      <td>nuts/ES52</td>\n      <td>ES</td>\n      <td>Spain</td>\n      <td>VC</td>\n      <td>Comunidad Valenciana</td>\n      <td>ES</td>\n      <td>ESP</td>\n      <td>1</td>\n      <td>...</td>\n      <td>NaN</td>\n      <td>NaN</td>\n      <td>NaN</td>\n      <td>NaN</td>\n      <td>NaN</td>\n      <td>NaN</td>\n      <td>NaN</td>\n      <td>5003769.0</td>\n      <td>NaN</td>\n      <td>NaN</td>\n    </tr>\n    <tr>\n      <th>20267</th>\n      <td>ES_VC</td>\n      <td>Q5720</td>\n      <td>nuts/ES52</td>\n      <td>ES</td>\n      <td>Spain</td>\n      <td>VC</td>\n      <td>Comunidad Valenciana</td>\n      <td>ES</td>\n      <td>ESP</td>\n      <td>1</td>\n      <td>...</td>\n      <td>NaN</td>\n      <td>NaN</td>\n      <td>NaN</td>\n      <td>NaN</td>\n      <td>NaN</td>\n      <td>NaN</td>\n      <td>NaN</td>\n      <td>5003769.0</td>\n      <td>NaN</td>\n      <td>NaN</td>\n    </tr>\n    <tr>\n      <th>20268</th>\n      <td>ES_VC</td>\n      <td>Q5720</td>\n      <td>nuts/ES52</td>\n      <td>ES</td>\n      <td>Spain</td>\n      <td>VC</td>\n      <td>Comunidad Valenciana</td>\n      <td>ES</td>\n      <td>ESP</td>\n      <td>1</td>\n      <td>...</td>\n      <td>NaN</td>\n      <td>NaN</td>\n      <td>NaN</td>\n      <td>NaN</td>\n      <td>NaN</td>\n      <td>NaN</td>\n      <td>NaN</td>\n      <td>5003769.0</td>\n      <td>NaN</td>\n      <td>NaN</td>\n    </tr>\n    <tr>\n      <th>20269</th>\n      <td>ES_VC</td>\n      <td>Q5720</td>\n      <td>nuts/ES52</td>\n      <td>ES</td>\n      <td>Spain</td>\n      <td>VC</td>\n      <td>Comunidad Valenciana</td>\n      <td>ES</td>\n      <td>ESP</td>\n      <td>1</td>\n      <td>...</td>\n      <td>NaN</td>\n      <td>NaN</td>\n      <td>NaN</td>\n      <td>NaN</td>\n      <td>NaN</td>\n      <td>NaN</td>\n      <td>NaN</td>\n      <td>5003769.0</td>\n      <td>NaN</td>\n      <td>NaN</td>\n    </tr>\n  </tbody>\n</table>\n<p>5 rows × 52 columns</p>\n</div>"
     },
     "metadata": {},
     "execution_count": 3
    }
   ],
   "source": [
    "# Filter records that have the right country code AND a non-null region code\n",
    "# Same as `data[(data.country_code == 'ES') & ~(data.subregion`_code.isna())]`\n",
    "spain_regions = data[(data.country_code == 'ES') & (data.aggregation_level == 1)]\n",
    "\n",
    "# We no longer need the municipality-level columns\n",
    "spain_regions = spain_regions.drop(columns=['subregion2_code', 'subregion2_name'])\n",
    "\n",
    "spain_regions.tail()"
   ]
  },
  {
   "cell_type": "markdown",
   "metadata": {},
   "source": [
    "### Using the `key` column\n",
    "The `key` column is present in all datasets and is unique for each combination of country, province/state and municipality/county. This way, we can retrieve a specific country or region using a single filter for the data. The `key` column is built using `country_code` for country-level data, `${country_code}_${subregion1_code}` for province/state level data, and `${country_code}_${subregion1_code}_${subregion2_code}` for municipality/county data:"
   ]
  },
  {
   "cell_type": "code",
   "execution_count": 5,
   "metadata": {},
   "outputs": [
    {
     "output_type": "execute_result",
     "data": {
      "text/plain": "      key wikidata  datacommons country_code country_name 3166-1-alpha-2  \\\n18593  ES      Q29  country/ESP           ES        Spain             ES   \n18594  ES      Q29  country/ESP           ES        Spain             ES   \n18595  ES      Q29  country/ESP           ES        Spain             ES   \n18596  ES      Q29  country/ESP           ES        Spain             ES   \n18597  ES      Q29  country/ESP           ES        Spain             ES   \n\n      3166-1-alpha-3  aggregation_level        date  new_confirmed  ...  \\\n18593            ESP                  0  2020-05-15          579.0  ...   \n18594            ESP                  0  2020-05-16          568.0  ...   \n18595            ESP                  0  2020-05-17          285.0  ...   \n18596            ESP                  0  2020-05-18          256.0  ...   \n18597            ESP                  0  2020-05-19          431.0  ...   \n\n       international_support  public_information_campaigns  testing_policy  \\\n18593                    NaN                           NaN             NaN   \n18594                    NaN                           NaN             NaN   \n18595                    NaN                           NaN             NaN   \n18596                    NaN                           NaN             NaN   \n18597                    NaN                           NaN             NaN   \n\n       contact_tracing  emergency_investment_in_healthcare  \\\n18593              NaN                                 NaN   \n18594              NaN                                 NaN   \n18595              NaN                                 NaN   \n18596              NaN                                 NaN   \n18597              NaN                                 NaN   \n\n       investment_in_vaccines  stringency_index  population  life_expectancy  \\\n18593                     NaN               NaN  30455000.0         78.71707   \n18594                     NaN               NaN  30455000.0         78.71707   \n18595                     NaN               NaN  30455000.0         78.71707   \n18596                     NaN               NaN  30455000.0         78.71707   \n18597                     NaN               NaN  30455000.0         78.71707   \n\n       human_development_index  \n18593                    0.702  \n18594                    0.702  \n18595                    0.702  \n18596                    0.702  \n18597                    0.702  \n\n[5 rows x 50 columns]",
      "text/html": "<div>\n<style scoped>\n    .dataframe tbody tr th:only-of-type {\n        vertical-align: middle;\n    }\n\n    .dataframe tbody tr th {\n        vertical-align: top;\n    }\n\n    .dataframe thead th {\n        text-align: right;\n    }\n</style>\n<table border=\"1\" class=\"dataframe\">\n  <thead>\n    <tr style=\"text-align: right;\">\n      <th></th>\n      <th>key</th>\n      <th>wikidata</th>\n      <th>datacommons</th>\n      <th>country_code</th>\n      <th>country_name</th>\n      <th>3166-1-alpha-2</th>\n      <th>3166-1-alpha-3</th>\n      <th>aggregation_level</th>\n      <th>date</th>\n      <th>new_confirmed</th>\n      <th>...</th>\n      <th>international_support</th>\n      <th>public_information_campaigns</th>\n      <th>testing_policy</th>\n      <th>contact_tracing</th>\n      <th>emergency_investment_in_healthcare</th>\n      <th>investment_in_vaccines</th>\n      <th>stringency_index</th>\n      <th>population</th>\n      <th>life_expectancy</th>\n      <th>human_development_index</th>\n    </tr>\n  </thead>\n  <tbody>\n    <tr>\n      <th>18593</th>\n      <td>ES</td>\n      <td>Q29</td>\n      <td>country/ESP</td>\n      <td>ES</td>\n      <td>Spain</td>\n      <td>ES</td>\n      <td>ESP</td>\n      <td>0</td>\n      <td>2020-05-15</td>\n      <td>579.0</td>\n      <td>...</td>\n      <td>NaN</td>\n      <td>NaN</td>\n      <td>NaN</td>\n      <td>NaN</td>\n      <td>NaN</td>\n      <td>NaN</td>\n      <td>NaN</td>\n      <td>30455000.0</td>\n      <td>78.71707</td>\n      <td>0.702</td>\n    </tr>\n    <tr>\n      <th>18594</th>\n      <td>ES</td>\n      <td>Q29</td>\n      <td>country/ESP</td>\n      <td>ES</td>\n      <td>Spain</td>\n      <td>ES</td>\n      <td>ESP</td>\n      <td>0</td>\n      <td>2020-05-16</td>\n      <td>568.0</td>\n      <td>...</td>\n      <td>NaN</td>\n      <td>NaN</td>\n      <td>NaN</td>\n      <td>NaN</td>\n      <td>NaN</td>\n      <td>NaN</td>\n      <td>NaN</td>\n      <td>30455000.0</td>\n      <td>78.71707</td>\n      <td>0.702</td>\n    </tr>\n    <tr>\n      <th>18595</th>\n      <td>ES</td>\n      <td>Q29</td>\n      <td>country/ESP</td>\n      <td>ES</td>\n      <td>Spain</td>\n      <td>ES</td>\n      <td>ESP</td>\n      <td>0</td>\n      <td>2020-05-17</td>\n      <td>285.0</td>\n      <td>...</td>\n      <td>NaN</td>\n      <td>NaN</td>\n      <td>NaN</td>\n      <td>NaN</td>\n      <td>NaN</td>\n      <td>NaN</td>\n      <td>NaN</td>\n      <td>30455000.0</td>\n      <td>78.71707</td>\n      <td>0.702</td>\n    </tr>\n    <tr>\n      <th>18596</th>\n      <td>ES</td>\n      <td>Q29</td>\n      <td>country/ESP</td>\n      <td>ES</td>\n      <td>Spain</td>\n      <td>ES</td>\n      <td>ESP</td>\n      <td>0</td>\n      <td>2020-05-18</td>\n      <td>256.0</td>\n      <td>...</td>\n      <td>NaN</td>\n      <td>NaN</td>\n      <td>NaN</td>\n      <td>NaN</td>\n      <td>NaN</td>\n      <td>NaN</td>\n      <td>NaN</td>\n      <td>30455000.0</td>\n      <td>78.71707</td>\n      <td>0.702</td>\n    </tr>\n    <tr>\n      <th>18597</th>\n      <td>ES</td>\n      <td>Q29</td>\n      <td>country/ESP</td>\n      <td>ES</td>\n      <td>Spain</td>\n      <td>ES</td>\n      <td>ESP</td>\n      <td>0</td>\n      <td>2020-05-19</td>\n      <td>431.0</td>\n      <td>...</td>\n      <td>NaN</td>\n      <td>NaN</td>\n      <td>NaN</td>\n      <td>NaN</td>\n      <td>NaN</td>\n      <td>NaN</td>\n      <td>NaN</td>\n      <td>30455000.0</td>\n      <td>78.71707</td>\n      <td>0.702</td>\n    </tr>\n  </tbody>\n</table>\n<p>5 rows × 50 columns</p>\n</div>"
     },
     "metadata": {},
     "execution_count": 5
    }
   ],
   "source": [
    "# Filter records for Spain at the country-level\n",
    "spain_country = data[data.key == 'ES']\n",
    "\n",
    "# We no longer need the subregion-level columns\n",
    "spain_country = spain_country.drop(columns=['subregion1_code', 'subregion1_name', 'subregion2_code', 'subregion2_name'])\n",
    "\n",
    "spain_country.tail()"
   ]
  },
  {
   "cell_type": "code",
   "execution_count": 6,
   "metadata": {},
   "outputs": [
    {
     "output_type": "execute_result",
     "data": {
      "text/plain": "         key wikidata datacommons country_code country_name subregion1_code  \\\n19825  ES_MD    Q5756   nuts/ES30           ES        Spain              MD   \n19826  ES_MD    Q5756   nuts/ES30           ES        Spain              MD   \n19827  ES_MD    Q5756   nuts/ES30           ES        Spain              MD   \n19828  ES_MD    Q5756   nuts/ES30           ES        Spain              MD   \n19829  ES_MD    Q5756   nuts/ES30           ES        Spain              MD   \n\n      subregion1_name subregion2_code subregion2_name 3166-1-alpha-2  ...  \\\n19825          Madrid             NaN             NaN             ES  ...   \n19826          Madrid             NaN             NaN             ES  ...   \n19827          Madrid             NaN             NaN             ES  ...   \n19828          Madrid             NaN             NaN             ES  ...   \n19829          Madrid             NaN             NaN             ES  ...   \n\n      international_support  public_information_campaigns testing_policy  \\\n19825                   NaN                           NaN            NaN   \n19826                   NaN                           NaN            NaN   \n19827                   NaN                           NaN            NaN   \n19828                   NaN                           NaN            NaN   \n19829                   NaN                           NaN            NaN   \n\n       contact_tracing  emergency_investment_in_healthcare  \\\n19825              NaN                                 NaN   \n19826              NaN                                 NaN   \n19827              NaN                                 NaN   \n19828              NaN                                 NaN   \n19829              NaN                                 NaN   \n\n       investment_in_vaccines  stringency_index  population  life_expectancy  \\\n19825                     NaN               NaN   6661949.0              NaN   \n19826                     NaN               NaN   6661949.0              NaN   \n19827                     NaN               NaN   6661949.0              NaN   \n19828                     NaN               NaN   6661949.0              NaN   \n19829                     NaN               NaN   6661949.0              NaN   \n\n       human_development_index  \n19825                      NaN  \n19826                      NaN  \n19827                      NaN  \n19828                      NaN  \n19829                      NaN  \n\n[5 rows x 54 columns]",
      "text/html": "<div>\n<style scoped>\n    .dataframe tbody tr th:only-of-type {\n        vertical-align: middle;\n    }\n\n    .dataframe tbody tr th {\n        vertical-align: top;\n    }\n\n    .dataframe thead th {\n        text-align: right;\n    }\n</style>\n<table border=\"1\" class=\"dataframe\">\n  <thead>\n    <tr style=\"text-align: right;\">\n      <th></th>\n      <th>key</th>\n      <th>wikidata</th>\n      <th>datacommons</th>\n      <th>country_code</th>\n      <th>country_name</th>\n      <th>subregion1_code</th>\n      <th>subregion1_name</th>\n      <th>subregion2_code</th>\n      <th>subregion2_name</th>\n      <th>3166-1-alpha-2</th>\n      <th>...</th>\n      <th>international_support</th>\n      <th>public_information_campaigns</th>\n      <th>testing_policy</th>\n      <th>contact_tracing</th>\n      <th>emergency_investment_in_healthcare</th>\n      <th>investment_in_vaccines</th>\n      <th>stringency_index</th>\n      <th>population</th>\n      <th>life_expectancy</th>\n      <th>human_development_index</th>\n    </tr>\n  </thead>\n  <tbody>\n    <tr>\n      <th>19825</th>\n      <td>ES_MD</td>\n      <td>Q5756</td>\n      <td>nuts/ES30</td>\n      <td>ES</td>\n      <td>Spain</td>\n      <td>MD</td>\n      <td>Madrid</td>\n      <td>NaN</td>\n      <td>NaN</td>\n      <td>ES</td>\n      <td>...</td>\n      <td>NaN</td>\n      <td>NaN</td>\n      <td>NaN</td>\n      <td>NaN</td>\n      <td>NaN</td>\n      <td>NaN</td>\n      <td>NaN</td>\n      <td>6661949.0</td>\n      <td>NaN</td>\n      <td>NaN</td>\n    </tr>\n    <tr>\n      <th>19826</th>\n      <td>ES_MD</td>\n      <td>Q5756</td>\n      <td>nuts/ES30</td>\n      <td>ES</td>\n      <td>Spain</td>\n      <td>MD</td>\n      <td>Madrid</td>\n      <td>NaN</td>\n      <td>NaN</td>\n      <td>ES</td>\n      <td>...</td>\n      <td>NaN</td>\n      <td>NaN</td>\n      <td>NaN</td>\n      <td>NaN</td>\n      <td>NaN</td>\n      <td>NaN</td>\n      <td>NaN</td>\n      <td>6661949.0</td>\n      <td>NaN</td>\n      <td>NaN</td>\n    </tr>\n    <tr>\n      <th>19827</th>\n      <td>ES_MD</td>\n      <td>Q5756</td>\n      <td>nuts/ES30</td>\n      <td>ES</td>\n      <td>Spain</td>\n      <td>MD</td>\n      <td>Madrid</td>\n      <td>NaN</td>\n      <td>NaN</td>\n      <td>ES</td>\n      <td>...</td>\n      <td>NaN</td>\n      <td>NaN</td>\n      <td>NaN</td>\n      <td>NaN</td>\n      <td>NaN</td>\n      <td>NaN</td>\n      <td>NaN</td>\n      <td>6661949.0</td>\n      <td>NaN</td>\n      <td>NaN</td>\n    </tr>\n    <tr>\n      <th>19828</th>\n      <td>ES_MD</td>\n      <td>Q5756</td>\n      <td>nuts/ES30</td>\n      <td>ES</td>\n      <td>Spain</td>\n      <td>MD</td>\n      <td>Madrid</td>\n      <td>NaN</td>\n      <td>NaN</td>\n      <td>ES</td>\n      <td>...</td>\n      <td>NaN</td>\n      <td>NaN</td>\n      <td>NaN</td>\n      <td>NaN</td>\n      <td>NaN</td>\n      <td>NaN</td>\n      <td>NaN</td>\n      <td>6661949.0</td>\n      <td>NaN</td>\n      <td>NaN</td>\n    </tr>\n    <tr>\n      <th>19829</th>\n      <td>ES_MD</td>\n      <td>Q5756</td>\n      <td>nuts/ES30</td>\n      <td>ES</td>\n      <td>Spain</td>\n      <td>MD</td>\n      <td>Madrid</td>\n      <td>NaN</td>\n      <td>NaN</td>\n      <td>ES</td>\n      <td>...</td>\n      <td>NaN</td>\n      <td>NaN</td>\n      <td>NaN</td>\n      <td>NaN</td>\n      <td>NaN</td>\n      <td>NaN</td>\n      <td>NaN</td>\n      <td>6661949.0</td>\n      <td>NaN</td>\n      <td>NaN</td>\n    </tr>\n  </tbody>\n</table>\n<p>5 rows × 54 columns</p>\n</div>"
     },
     "metadata": {},
     "execution_count": 6
    }
   ],
   "source": [
    "# Filter records for Madrid, one of the subregions of Spain\n",
    "madrid = data[data.key == 'ES_MD']\n",
    "\n",
    "madrid.tail()"
   ]
  },
  {
   "cell_type": "markdown",
   "metadata": {},
   "source": [
    "### Dataset Subsets\n",
    "The master table can be large and cumbersome depending on your application. If you only need a subset of the data, for example only epidemiology, here's how you would get only that data for Madrid:"
   ]
  },
  {
   "cell_type": "code",
   "execution_count": 7,
   "metadata": {},
   "outputs": [
    {
     "output_type": "execute_result",
     "data": {
      "text/plain": "              date    key  new_confirmed  new_deceased  new_recovered  \\\n232402  2020-05-13  ES_MD          189.0          19.0          215.0   \n236573  2020-05-14  ES_MD          181.0          30.0          184.0   \n240758  2020-05-15  ES_MD           92.0          17.0          203.0   \n244932  2020-05-16  ES_MD           18.0          21.0          112.0   \n249068  2020-05-17  ES_MD            5.0          16.0           38.0   \n\n        new_tested  total_confirmed  total_deceased  total_recovered  \\\n232402         NaN          66006.0          8779.0          40199.0   \n236573         NaN          66187.0          8809.0          40383.0   \n240758         NaN          66279.0          8826.0          40586.0   \n244932         NaN          66297.0          8847.0          40698.0   \n249068         NaN          66302.0          8863.0          40736.0   \n\n        total_tested  \n232402           NaN  \n236573           NaN  \n240758           NaN  \n244932           NaN  \n249068           NaN  ",
      "text/html": "<div>\n<style scoped>\n    .dataframe tbody tr th:only-of-type {\n        vertical-align: middle;\n    }\n\n    .dataframe tbody tr th {\n        vertical-align: top;\n    }\n\n    .dataframe thead th {\n        text-align: right;\n    }\n</style>\n<table border=\"1\" class=\"dataframe\">\n  <thead>\n    <tr style=\"text-align: right;\">\n      <th></th>\n      <th>date</th>\n      <th>key</th>\n      <th>new_confirmed</th>\n      <th>new_deceased</th>\n      <th>new_recovered</th>\n      <th>new_tested</th>\n      <th>total_confirmed</th>\n      <th>total_deceased</th>\n      <th>total_recovered</th>\n      <th>total_tested</th>\n    </tr>\n  </thead>\n  <tbody>\n    <tr>\n      <th>232402</th>\n      <td>2020-05-13</td>\n      <td>ES_MD</td>\n      <td>189.0</td>\n      <td>19.0</td>\n      <td>215.0</td>\n      <td>NaN</td>\n      <td>66006.0</td>\n      <td>8779.0</td>\n      <td>40199.0</td>\n      <td>NaN</td>\n    </tr>\n    <tr>\n      <th>236573</th>\n      <td>2020-05-14</td>\n      <td>ES_MD</td>\n      <td>181.0</td>\n      <td>30.0</td>\n      <td>184.0</td>\n      <td>NaN</td>\n      <td>66187.0</td>\n      <td>8809.0</td>\n      <td>40383.0</td>\n      <td>NaN</td>\n    </tr>\n    <tr>\n      <th>240758</th>\n      <td>2020-05-15</td>\n      <td>ES_MD</td>\n      <td>92.0</td>\n      <td>17.0</td>\n      <td>203.0</td>\n      <td>NaN</td>\n      <td>66279.0</td>\n      <td>8826.0</td>\n      <td>40586.0</td>\n      <td>NaN</td>\n    </tr>\n    <tr>\n      <th>244932</th>\n      <td>2020-05-16</td>\n      <td>ES_MD</td>\n      <td>18.0</td>\n      <td>21.0</td>\n      <td>112.0</td>\n      <td>NaN</td>\n      <td>66297.0</td>\n      <td>8847.0</td>\n      <td>40698.0</td>\n      <td>NaN</td>\n    </tr>\n    <tr>\n      <th>249068</th>\n      <td>2020-05-17</td>\n      <td>ES_MD</td>\n      <td>5.0</td>\n      <td>16.0</td>\n      <td>38.0</td>\n      <td>NaN</td>\n      <td>66302.0</td>\n      <td>8863.0</td>\n      <td>40736.0</td>\n      <td>NaN</td>\n    </tr>\n  </tbody>\n</table>\n</div>"
     },
     "metadata": {},
     "execution_count": 7
    }
   ],
   "source": [
    "# Load the epidemiology table\n",
    "# Note that all the helper columns such as country code, country name, aggregation level, etc. are present in the\n",
    "# `index` table; we only have the key here\n",
    "epi = pd.read_csv('https://open-covid-19.github.io/data/v2/epidemiology.csv')\n",
    "\n",
    "# Filter records for Madrid, one of the subregions of Spain\n",
    "madrid = epi[epi.key == 'ES_MD']\n",
    "\n",
    "madrid.tail()"
   ]
  },
  {
   "cell_type": "markdown",
   "metadata": {},
   "source": [
    "### Data consistency\n",
    "Often, region-level data and country-level data will come from different sources. This will lead to numbers not adding up exactly, or even date misalignment (the data for the region may be reported sooner or later than the whole country). However, country- and region- level data will *always* be self-consistent"
   ]
  }
 ],
 "metadata": {
  "file_extension": ".py",
  "kernelspec": {
   "display_name": "Python 3",
   "language": "python",
   "name": "python3"
  },
  "language_info": {
   "codemirror_mode": {
    "name": "ipython",
    "version": 3
   },
   "file_extension": ".py",
   "mimetype": "text/x-python",
   "name": "python",
   "nbconvert_exporter": "python",
   "pygments_lexer": "ipython3",
   "version": "3.7.6-final"
  },
  "mimetype": "text/x-python",
  "name": "python",
  "npconvert_exporter": "python",
  "pygments_lexer": "ipython3",
  "version": 3
 },
 "nbformat": 4,
 "nbformat_minor": 4
}