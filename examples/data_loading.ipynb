{
 "cells": [
  {
   "cell_type": "markdown",
   "metadata": {},
   "source": [
    "# Loading the Open COVID-19 Dataset\n",
    "This very short notebook showcases how to load the [Open COVID-19 datset](https://github.com/open-covid-19/data), including some examples for commonly performed operations.\n",
    "\n",
    "First, loading the data is very simple with `pandas`. We can use the CSV or the JSON file to download the entire Open COVID-19 dataset in a single step:"
   ]
  },
  {
   "cell_type": "code",
   "execution_count": 1,
   "metadata": {},
   "outputs": [
    {
     "output_type": "stream",
     "name": "stdout",
     "text": "The dataset currently contains 8798 records, here are the last few:\n"
    },
    {
     "output_type": "execute_result",
     "data": {
      "text/plain": "            Date CountryCode CountryName RegionCode RegionName  Confirmed  \\\n8793  2020-03-23          CN       China         SD   Shandong        767   \n8794  2020-03-23          CN       China         SH   Shanghai        404   \n8795  2020-03-23          CN       China         ZJ   Zhejiang       1238   \n8796  2020-03-23          ES       Spain        NaN        NaN      28572   \n8797  2020-03-23          IT       Italy        NaN        NaN      59138   \n\n      Deaths   Latitude  Longitude  Population  \n8793     7.0  36.342700  118.14980         NaN  \n8794     4.0  31.202000  121.44910         NaN  \n8795     1.0  29.183200  120.09340         NaN  \n8796  1720.0  40.463667   -3.74922  46736776.0  \n8797  5476.0  41.871940   12.56738  60550075.0  ",
      "text/html": "<div>\n<style scoped>\n    .dataframe tbody tr th:only-of-type {\n        vertical-align: middle;\n    }\n\n    .dataframe tbody tr th {\n        vertical-align: top;\n    }\n\n    .dataframe thead th {\n        text-align: right;\n    }\n</style>\n<table border=\"1\" class=\"dataframe\">\n  <thead>\n    <tr style=\"text-align: right;\">\n      <th></th>\n      <th>Date</th>\n      <th>CountryCode</th>\n      <th>CountryName</th>\n      <th>RegionCode</th>\n      <th>RegionName</th>\n      <th>Confirmed</th>\n      <th>Deaths</th>\n      <th>Latitude</th>\n      <th>Longitude</th>\n      <th>Population</th>\n    </tr>\n  </thead>\n  <tbody>\n    <tr>\n      <th>8793</th>\n      <td>2020-03-23</td>\n      <td>CN</td>\n      <td>China</td>\n      <td>SD</td>\n      <td>Shandong</td>\n      <td>767</td>\n      <td>7.0</td>\n      <td>36.342700</td>\n      <td>118.14980</td>\n      <td>NaN</td>\n    </tr>\n    <tr>\n      <th>8794</th>\n      <td>2020-03-23</td>\n      <td>CN</td>\n      <td>China</td>\n      <td>SH</td>\n      <td>Shanghai</td>\n      <td>404</td>\n      <td>4.0</td>\n      <td>31.202000</td>\n      <td>121.44910</td>\n      <td>NaN</td>\n    </tr>\n    <tr>\n      <th>8795</th>\n      <td>2020-03-23</td>\n      <td>CN</td>\n      <td>China</td>\n      <td>ZJ</td>\n      <td>Zhejiang</td>\n      <td>1238</td>\n      <td>1.0</td>\n      <td>29.183200</td>\n      <td>120.09340</td>\n      <td>NaN</td>\n    </tr>\n    <tr>\n      <th>8796</th>\n      <td>2020-03-23</td>\n      <td>ES</td>\n      <td>Spain</td>\n      <td>NaN</td>\n      <td>NaN</td>\n      <td>28572</td>\n      <td>1720.0</td>\n      <td>40.463667</td>\n      <td>-3.74922</td>\n      <td>46736776.0</td>\n    </tr>\n    <tr>\n      <th>8797</th>\n      <td>2020-03-23</td>\n      <td>IT</td>\n      <td>Italy</td>\n      <td>NaN</td>\n      <td>NaN</td>\n      <td>59138</td>\n      <td>5476.0</td>\n      <td>41.871940</td>\n      <td>12.56738</td>\n      <td>60550075.0</td>\n    </tr>\n  </tbody>\n</table>\n</div>"
     },
     "metadata": {},
     "execution_count": 1
    }
   ],
   "source": [
    "import pandas as pd\n",
    "\n",
    "# Load CSV data directly from the URL with pandas\n",
    "data = pd.read_csv('https://open-covid-19.github.io/data/data.csv')\n",
    "\n",
    "# Alternatively load the JSON data, which should be identical\n",
    "data_json = pd.read_json('https://open-covid-19.github.io/data/data.json')\n",
    "assert len(data) == len(data_json)\n",
    "\n",
    "# Print a small snippet of the dataset\n",
    "print('The dataset currently contains %d records, here are the last few:' % len(data))\n",
    "data.tail()"
   ]
  },
  {
   "cell_type": "markdown",
   "metadata": {},
   "source": [
    "### Looking at country-level data\n",
    "Some records contain country-level data, in other words, data that is aggregated at the country level. Other records contain region-level data, which are subdivisions of a country; for example, Chinese provinces or USA states.\n",
    "\n",
    "To filter only country-level data from the dataset, look for records that have a null value for the region:"
   ]
  },
  {
   "cell_type": "code",
   "execution_count": 2,
   "metadata": {},
   "outputs": [
    {
     "output_type": "execute_result",
     "data": {
      "text/plain": "            Date CountryCode   CountryName  Confirmed  Deaths   Latitude  \\\n8777  2020-03-22          ZA  South Africa        240     0.0 -30.559482   \n8778  2020-03-22          ZM        Zambia          2     0.0 -13.133897   \n8779  2020-03-22          ZW      Zimbabwe          2     0.0 -19.015438   \n8796  2020-03-23          ES         Spain      28572  1720.0  40.463667   \n8797  2020-03-23          IT         Italy      59138  5476.0  41.871940   \n\n      Longitude  Population  \n8777  22.937506  58558270.0  \n8778  27.849332  17861030.0  \n8779  29.154857  14645468.0  \n8796  -3.749220  46736776.0  \n8797  12.567380  60550075.0  ",
      "text/html": "<div>\n<style scoped>\n    .dataframe tbody tr th:only-of-type {\n        vertical-align: middle;\n    }\n\n    .dataframe tbody tr th {\n        vertical-align: top;\n    }\n\n    .dataframe thead th {\n        text-align: right;\n    }\n</style>\n<table border=\"1\" class=\"dataframe\">\n  <thead>\n    <tr style=\"text-align: right;\">\n      <th></th>\n      <th>Date</th>\n      <th>CountryCode</th>\n      <th>CountryName</th>\n      <th>Confirmed</th>\n      <th>Deaths</th>\n      <th>Latitude</th>\n      <th>Longitude</th>\n      <th>Population</th>\n    </tr>\n  </thead>\n  <tbody>\n    <tr>\n      <th>8777</th>\n      <td>2020-03-22</td>\n      <td>ZA</td>\n      <td>South Africa</td>\n      <td>240</td>\n      <td>0.0</td>\n      <td>-30.559482</td>\n      <td>22.937506</td>\n      <td>58558270.0</td>\n    </tr>\n    <tr>\n      <th>8778</th>\n      <td>2020-03-22</td>\n      <td>ZM</td>\n      <td>Zambia</td>\n      <td>2</td>\n      <td>0.0</td>\n      <td>-13.133897</td>\n      <td>27.849332</td>\n      <td>17861030.0</td>\n    </tr>\n    <tr>\n      <th>8779</th>\n      <td>2020-03-22</td>\n      <td>ZW</td>\n      <td>Zimbabwe</td>\n      <td>2</td>\n      <td>0.0</td>\n      <td>-19.015438</td>\n      <td>29.154857</td>\n      <td>14645468.0</td>\n    </tr>\n    <tr>\n      <th>8796</th>\n      <td>2020-03-23</td>\n      <td>ES</td>\n      <td>Spain</td>\n      <td>28572</td>\n      <td>1720.0</td>\n      <td>40.463667</td>\n      <td>-3.749220</td>\n      <td>46736776.0</td>\n    </tr>\n    <tr>\n      <th>8797</th>\n      <td>2020-03-23</td>\n      <td>IT</td>\n      <td>Italy</td>\n      <td>59138</td>\n      <td>5476.0</td>\n      <td>41.871940</td>\n      <td>12.567380</td>\n      <td>60550075.0</td>\n    </tr>\n  </tbody>\n</table>\n</div>"
     },
     "metadata": {},
     "execution_count": 2
    }
   ],
   "source": [
    "# Look for rows with null RegionCode\n",
    "countries = data[data['RegionCode'].isna()]\n",
    "\n",
    "# We no longer need the region-level columns\n",
    "countries = countries.drop(columns=['RegionCode', 'RegionName'])\n",
    "\n",
    "countries.tail()"
   ]
  },
  {
   "cell_type": "markdown",
   "metadata": {},
   "source": [
    "### Looking at region-level data\n",
    "Conversely, to filter region-level data for a specific country, we need to look for records where the region columns have non-null values. The following snippet extracts data related to Spain's subregions from the dataset:"
   ]
  },
  {
   "cell_type": "code",
   "execution_count": 3,
   "metadata": {},
   "outputs": [
    {
     "output_type": "execute_result",
     "data": {
      "text/plain": "            Date CountryCode CountryName RegionCode            RegionName  \\\n8602  2020-03-22          ES       Spain         ML               Melilla   \n8603  2020-03-22          ES       Spain         NC               Navarra   \n8604  2020-03-22          ES       Spain         PV            País Vasco   \n8605  2020-03-22          ES       Spain         RI              La Rioja   \n8606  2020-03-22          ES       Spain         VC  Comunidad Valenciana   \n\n      Confirmed  Deaths  Latitude  Longitude  Population  \n8602         25     0.0   35.2937    -2.9383         NaN  \n8603        794    14.0   42.8169    -1.6432         NaN  \n8604       2097    97.0   43.2627    -2.9253         NaN  \n8605        654    18.0   42.4667    -2.4500         NaN  \n8606       1604    69.0   39.4697    -0.3774         NaN  ",
      "text/html": "<div>\n<style scoped>\n    .dataframe tbody tr th:only-of-type {\n        vertical-align: middle;\n    }\n\n    .dataframe tbody tr th {\n        vertical-align: top;\n    }\n\n    .dataframe thead th {\n        text-align: right;\n    }\n</style>\n<table border=\"1\" class=\"dataframe\">\n  <thead>\n    <tr style=\"text-align: right;\">\n      <th></th>\n      <th>Date</th>\n      <th>CountryCode</th>\n      <th>CountryName</th>\n      <th>RegionCode</th>\n      <th>RegionName</th>\n      <th>Confirmed</th>\n      <th>Deaths</th>\n      <th>Latitude</th>\n      <th>Longitude</th>\n      <th>Population</th>\n    </tr>\n  </thead>\n  <tbody>\n    <tr>\n      <th>8602</th>\n      <td>2020-03-22</td>\n      <td>ES</td>\n      <td>Spain</td>\n      <td>ML</td>\n      <td>Melilla</td>\n      <td>25</td>\n      <td>0.0</td>\n      <td>35.2937</td>\n      <td>-2.9383</td>\n      <td>NaN</td>\n    </tr>\n    <tr>\n      <th>8603</th>\n      <td>2020-03-22</td>\n      <td>ES</td>\n      <td>Spain</td>\n      <td>NC</td>\n      <td>Navarra</td>\n      <td>794</td>\n      <td>14.0</td>\n      <td>42.8169</td>\n      <td>-1.6432</td>\n      <td>NaN</td>\n    </tr>\n    <tr>\n      <th>8604</th>\n      <td>2020-03-22</td>\n      <td>ES</td>\n      <td>Spain</td>\n      <td>PV</td>\n      <td>País Vasco</td>\n      <td>2097</td>\n      <td>97.0</td>\n      <td>43.2627</td>\n      <td>-2.9253</td>\n      <td>NaN</td>\n    </tr>\n    <tr>\n      <th>8605</th>\n      <td>2020-03-22</td>\n      <td>ES</td>\n      <td>Spain</td>\n      <td>RI</td>\n      <td>La Rioja</td>\n      <td>654</td>\n      <td>18.0</td>\n      <td>42.4667</td>\n      <td>-2.4500</td>\n      <td>NaN</td>\n    </tr>\n    <tr>\n      <th>8606</th>\n      <td>2020-03-22</td>\n      <td>ES</td>\n      <td>Spain</td>\n      <td>VC</td>\n      <td>Comunidad Valenciana</td>\n      <td>1604</td>\n      <td>69.0</td>\n      <td>39.4697</td>\n      <td>-0.3774</td>\n      <td>NaN</td>\n    </tr>\n  </tbody>\n</table>\n</div>"
     },
     "metadata": {},
     "execution_count": 3
    }
   ],
   "source": [
    "# Filter records that have the right country code AND a non-null region code\n",
    "spain = data[(data['CountryCode'] == 'ES') & ~(data['RegionCode'].isna())]\n",
    "\n",
    "spain.tail()"
   ]
  },
  {
   "cell_type": "markdown",
   "metadata": {},
   "source": [
    "### Data consistency\n",
    "Often, region-level data and country-level data will come from different sources. This will lead to numbers not adding up exactly, or even date misalignment (the data for the region may be reported sooner or later than the whole country). However, country- and region- level data will *always* be self-consistent"
   ]
  }
 ],
 "metadata": {
  "file_extension": ".py",
  "kernelspec": {
   "display_name": "Python 3",
   "language": "python",
   "name": "python3"
  },
  "language_info": {
   "codemirror_mode": {
    "name": "ipython",
    "version": 3
   },
   "file_extension": ".py",
   "mimetype": "text/x-python",
   "name": "python",
   "nbconvert_exporter": "python",
   "pygments_lexer": "ipython3",
   "version": "3.7.6-final"
  },
  "mimetype": "text/x-python",
  "name": "python",
  "npconvert_exporter": "python",
  "pygments_lexer": "ipython3",
  "version": 3
 },
 "nbformat": 4,
 "nbformat_minor": 4
}